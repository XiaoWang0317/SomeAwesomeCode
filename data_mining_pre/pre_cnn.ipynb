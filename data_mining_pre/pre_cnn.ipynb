{
 "cells": [
  {
   "cell_type": "code",
   "execution_count": 1,
   "id": "eb5e9e6f",
   "metadata": {},
   "outputs": [],
   "source": [
    "import tensorflow as tf\n",
    "import matplotlib.pyplot as plt\n",
    "from tensorflow.keras.datasets import cifar10\n",
    "from keras.regularizers import l2"
   ]
  },
  {
   "cell_type": "code",
   "execution_count": 2,
   "id": "4539d170",
   "metadata": {},
   "outputs": [],
   "source": [
    "(x_train,y_train),(x_test,y_test)=cifar10.load_data()"
   ]
  },
  {
   "cell_type": "code",
   "execution_count": 3,
   "id": "c7f1aa1a",
   "metadata": {},
   "outputs": [
    {
     "data": {
      "text/plain": [
       "(50000, 32, 32, 3)"
      ]
     },
     "execution_count": 3,
     "metadata": {},
     "output_type": "execute_result"
    }
   ],
   "source": [
    "x_train=x_train/255.0\n",
    "x_train.shape"
   ]
  },
  {
   "cell_type": "code",
   "execution_count": 4,
   "id": "88d80137",
   "metadata": {},
   "outputs": [
    {
     "data": {
      "text/plain": [
       "(10000, 32, 32, 3)"
      ]
     },
     "execution_count": 4,
     "metadata": {},
     "output_type": "execute_result"
    }
   ],
   "source": [
    "x_test=x_test/255.0\n",
    "x_test.shape"
   ]
  },
  {
   "cell_type": "code",
   "execution_count": 5,
   "id": "4eb903b1",
   "metadata": {},
   "outputs": [
    {
     "data": {
      "text/plain": [
       "<matplotlib.image.AxesImage at 0x2d8c5a65ac8>"
      ]
     },
     "execution_count": 5,
     "metadata": {},
     "output_type": "execute_result"
    },
    {
     "data": {
      "image/png": "[encoded data removed]",
      "text/plain": [
       "<Figure size 640x480 with 1 Axes>"
      ]
     },
     "metadata": {},
     "output_type": "display_data"
    }
   ],
   "source": [
    "plt.imshow(x_test[215])"
   ]
  },
  {
   "cell_type": "markdown",
   "id": "14696be8",
   "metadata": {},
   "source": [
    "# L1, L2 test"
   ]
  },
  {
   "cell_type": "code",
   "execution_count": 6,
   "id": "e472b80e",
   "metadata": {},
   "outputs": [],
   "source": [
    "batch_size = 256"
   ]
  },
  {
   "cell_type": "code",
   "execution_count": 7,
   "id": "8f2bdaed",
   "metadata": {},
   "outputs": [],
   "source": [
    "model_cnn_0 = tf.keras.Sequential([\n",
    "    tf.keras.layers.Conv2D(filters=32,kernel_size=3,padding=\"same\", activation=\"relu\", input_shape=[32,32,3]),\n",
    "    tf.keras.layers.Conv2D(filters=32,kernel_size=3,padding=\"same\", activation=\"relu\"),\n",
    "    tf.keras.layers.MaxPool2D(pool_size=2,strides=2,padding='valid'),\n",
    "    tf.keras.layers.Conv2D(filters=64,kernel_size=3,padding=\"same\", activation=\"relu\"),\n",
    "    tf.keras.layers.Conv2D(filters=64,kernel_size=3,padding=\"same\", activation=\"relu\"),\n",
    "    tf.keras.layers.MaxPool2D(pool_size=2,strides=2,padding='valid'),\n",
    "    tf.keras.layers.Flatten(),\n",
    "    tf.keras.layers.Dense(units=128,activation='relu'),\n",
    "    tf.keras.layers.Dense(10, activation='softmax')\n",
    "])"
   ]
  },
  {
   "cell_type": "code",
   "execution_count": 8,
   "id": "9a2e9e51",
   "metadata": {},
   "outputs": [],
   "source": [
    "model_cnn_0.compile(loss=\"sparse_categorical_crossentropy\", \n",
    "                    optimizer=\"Adam\", \n",
    "                    metrics=[\"sparse_categorical_accuracy\"])"
   ]
  },
  {
   "cell_type": "code",
   "execution_count": 9,
   "id": "bec3b3c4",
   "metadata": {},
   "outputs": [
    {
     "name": "stdout",
     "output_type": "stream",
     "text": [
      "Epoch 1/10\n",
      "1563/1563 [==============================] - 50s 32ms/step - loss: 1.3812 - sparse_categorical_accuracy: 0.5023\n",
      "Epoch 2/10\n",
      "1563/1563 [==============================] - 50s 32ms/step - loss: 0.8978 - sparse_categorical_accuracy: 0.6845\n",
      "Epoch 3/10\n",
      "1563/1563 [==============================] - 50s 32ms/step - loss: 0.7213 - sparse_categorical_accuracy: 0.7489\n",
      "Epoch 4/10\n",
      "1563/1563 [==============================] - 50s 32ms/step - loss: 0.6067 - sparse_categorical_accuracy: 0.7882\n",
      "Epoch 5/10\n",
      "1563/1563 [==============================] - 50s 32ms/step - loss: 0.5046 - sparse_categorical_accuracy: 0.8215\n",
      "Epoch 6/10\n",
      "1563/1563 [==============================] - 50s 32ms/step - loss: 0.4200 - sparse_categorical_accuracy: 0.8518\n",
      "Epoch 7/10\n",
      "1563/1563 [==============================] - 50s 32ms/step - loss: 0.3423 - sparse_categorical_accuracy: 0.8781\n",
      "Epoch 8/10\n",
      "1563/1563 [==============================] - 50s 32ms/step - loss: 0.2782 - sparse_categorical_accuracy: 0.9009\n",
      "Epoch 9/10\n",
      "1563/1563 [==============================] - 50s 32ms/step - loss: 0.2225 - sparse_categorical_accuracy: 0.9198\n",
      "Epoch 10/10\n",
      "1563/1563 [==============================] - 51s 32ms/step - loss: 0.1939 - sparse_categorical_accuracy: 0.9301\n"
     ]
    }
   ],
   "source": [
    "history_cnn_0 = model_cnn_0.fit(x_train, y_train, epochs=10)"
   ]
  },
  {
   "cell_type": "code",
   "execution_count": 33,
   "id": "90888490",
   "metadata": {},
   "outputs": [],
   "source": [
    "model_cnn_1 = tf.keras.Sequential([\n",
    "    tf.keras.layers.Conv2D(filters=32,kernel_size=3,padding=\"same\", activation=\"relu\", input_shape=[32,32,3]),\n",
    "    tf.keras.layers.Conv2D(filters=32,kernel_size=3,padding=\"same\", activation=\"relu\", kernel_regularizer=tf.keras.regularizers.l1(0.02)),\n",
    "    tf.keras.layers.MaxPool2D(pool_size=2,strides=2,padding='valid'),\n",
    "    tf.keras.layers.Conv2D(filters=64,kernel_size=3,padding=\"same\", activation=\"relu\", kernel_regularizer=tf.keras.regularizers.l1(0.02)),\n",
    "    tf.keras.layers.Conv2D(filters=64,kernel_size=3,padding=\"same\", activation=\"relu\", kernel_regularizer=tf.keras.regularizers.l1(0.02)),\n",
    "    tf.keras.layers.MaxPool2D(pool_size=2,strides=2,padding='valid'),\n",
    "    tf.keras.layers.Flatten(),\n",
    "    tf.keras.layers.Dense(units=128,activation='relu', kernel_regularizer=tf.keras.regularizers.l1(0.02)),\n",
    "    tf.keras.layers.Dense(10, activation='softmax', kernel_regularizer=tf.keras.regularizers.l1(0.02))\n",
    "])"
   ]
  },
  {
   "cell_type": "code",
   "execution_count": 34,
   "id": "efd8bdbd",
   "metadata": {},
   "outputs": [],
   "source": [
    "model_cnn_1.compile(loss=\"sparse_categorical_crossentropy\", \n",
    "                    optimizer=\"Adam\", \n",
    "                    metrics=[\"sparse_categorical_accuracy\"])"
   ]
  },
  {
   "cell_type": "code",
   "execution_count": 35,
   "id": "83b0fe01",
   "metadata": {},
   "outputs": [
    {
     "name": "stdout",
     "output_type": "stream",
     "text": [
      "Epoch 1/10\n",
      "1563/1563 [==============================] - 53s 34ms/step - loss: 6.6529 - sparse_categorical_accuracy: 0.0965\n",
      "Epoch 2/10\n",
      "1563/1563 [==============================] - 52s 33ms/step - loss: 3.7650 - sparse_categorical_accuracy: 0.0959\n",
      "Epoch 3/10\n",
      "1563/1563 [==============================] - 52s 33ms/step - loss: 3.7649 - sparse_categorical_accuracy: 0.0983\n",
      "Epoch 4/10\n",
      "1563/1563 [==============================] - 52s 33ms/step - loss: 3.7648 - sparse_categorical_accuracy: 0.0989\n",
      "Epoch 5/10\n",
      "1563/1563 [==============================] - 52s 33ms/step - loss: 3.7647 - sparse_categorical_accuracy: 0.0969\n",
      "Epoch 6/10\n",
      "1563/1563 [==============================] - 52s 33ms/step - loss: 3.7646 - sparse_categorical_accuracy: 0.0996\n",
      "Epoch 7/10\n",
      "1563/1563 [==============================] - 52s 33ms/step - loss: 3.7644 - sparse_categorical_accuracy: 0.0991\n",
      "Epoch 8/10\n",
      "1563/1563 [==============================] - 52s 33ms/step - loss: 3.7644 - sparse_categorical_accuracy: 0.0992\n",
      "Epoch 9/10\n",
      "1563/1563 [==============================] - 52s 33ms/step - loss: 3.7643 - sparse_categorical_accuracy: 0.0990\n",
      "Epoch 10/10\n",
      "1563/1563 [==============================] - 52s 33ms/step - loss: 3.7642 - sparse_categorical_accuracy: 0.0979\n"
     ]
    }
   ],
   "source": [
    "history_cnn_1 = model_cnn_1.fit(x_train, y_train, epochs=10)"
   ]
  },
  {
   "cell_type": "code",
   "execution_count": 24,
   "id": "a7a35706",
   "metadata": {},
   "outputs": [],
   "source": [
    "model_cnn_2 = tf.keras.Sequential([\n",
    "    tf.keras.layers.Conv2D(filters=32,kernel_size=3,padding=\"same\", activation=\"relu\", input_shape=[32,32,3]),\n",
    "    tf.keras.layers.Conv2D(filters=32,kernel_size=3,padding=\"same\", activation=\"relu\", kernel_regularizer=tf.keras.regularizers.l2(0.01)),\n",
    "    tf.keras.layers.MaxPool2D(pool_size=2,strides=2,padding='valid'),\n",
    "    tf.keras.layers.Conv2D(filters=64,kernel_size=3,padding=\"same\", activation=\"relu\", kernel_regularizer=tf.keras.regularizers.l2(0.01)),\n",
    "    tf.keras.layers.Conv2D(filters=64,kernel_size=3,padding=\"same\", activation=\"relu\", kernel_regularizer=tf.keras.regularizers.l2(0.01)),\n",
    "    tf.keras.layers.MaxPool2D(pool_size=2,strides=2,padding='valid'),\n",
    "    tf.keras.layers.Flatten(),\n",
    "    tf.keras.layers.Dense(units=128,activation='relu', kernel_regularizer=tf.keras.regularizers.l2(0.01)),\n",
    "    tf.keras.layers.Dense(10, activation='softmax', kernel_regularizer=tf.keras.regularizers.l2(0.01))\n",
    "])"
   ]
  },
  {
   "cell_type": "code",
   "execution_count": 25,
   "id": "7a61de51",
   "metadata": {},
   "outputs": [],
   "source": [
    "model_cnn_2.compile(loss=\"sparse_categorical_crossentropy\", \n",
    "                    optimizer=\"Adam\", \n",
    "                    metrics=[\"sparse_categorical_accuracy\"])"
   ]
  },
  {
   "cell_type": "code",
   "execution_count": 26,
   "id": "9919b17f",
   "metadata": {
    "scrolled": true
   },
   "outputs": [
    {
     "name": "stdout",
     "output_type": "stream",
     "text": [
      "Epoch 1/10\n",
      "1563/1563 [==============================] - 52s 33ms/step - loss: 2.0041 - sparse_categorical_accuracy: 0.3526\n",
      "Epoch 2/10\n",
      "1563/1563 [==============================] - 52s 33ms/step - loss: 1.7339 - sparse_categorical_accuracy: 0.4292\n",
      "Epoch 3/10\n",
      "1563/1563 [==============================] - 52s 33ms/step - loss: 1.6574 - sparse_categorical_accuracy: 0.4683\n",
      "Epoch 4/10\n",
      "1563/1563 [==============================] - 52s 33ms/step - loss: 1.6094 - sparse_categorical_accuracy: 0.4922\n",
      "Epoch 5/10\n",
      "1563/1563 [==============================] - 52s 33ms/step - loss: 1.5739 - sparse_categorical_accuracy: 0.5065\n",
      "Epoch 6/10\n",
      "1563/1563 [==============================] - 50s 32ms/step - loss: 1.5529 - sparse_categorical_accuracy: 0.5180\n",
      "Epoch 7/10\n",
      "1563/1563 [==============================] - 46s 30ms/step - loss: 1.5220 - sparse_categorical_accuracy: 0.5339\n",
      "Epoch 8/10\n",
      "1563/1563 [==============================] - 46s 30ms/step - loss: 1.5018 - sparse_categorical_accuracy: 0.5423\n",
      "Epoch 9/10\n",
      "1563/1563 [==============================] - 46s 30ms/step - loss: 1.4908 - sparse_categorical_accuracy: 0.5466\n",
      "Epoch 10/10\n",
      "1563/1563 [==============================] - 48s 31ms/step - loss: 1.4787 - sparse_categorical_accuracy: 0.5500\n"
     ]
    }
   ],
   "source": [
    "history_cnn_2 = model_cnn_2.fit(x_train, y_train, epochs=10)"
   ]
  },
  {
   "cell_type": "code",
   "execution_count": null,
   "id": "5e300307",
   "metadata": {
    "scrolled": true
   },
   "outputs": [],
   "source": [
    "import matplotlib.pyplot as plt\n",
    "plt.plot(history_cnn_0.history['sparse_categorical_accuracy'])\n",
    "plt.plot(history_cnn_1.history['sparse_categorical_accuracy'])\n",
    "plt.plot(history_cnn_2.history['sparse_categorical_accuracy'])\n",
    "plt.title('CNN: model accuracy with different regularization')\n",
    "plt.ylabel('accuracy')\n",
    "plt.xlabel('epoch')\n",
    "plt.legend(['L2', 'L1', 'No regularization'], loc='upper left')\n",
    "plt.show()"
   ]
  },
  {
   "attachments": {
    "image.png": {
     "image/png": "[encoded data removed]"
    }
   },
   "cell_type": "markdown",
   "id": "fed49047",
   "metadata": {},
   "source": [
    "![image.png](attachment:image.png)"
   ]
  },
  {
   "cell_type": "markdown",
   "id": "2286d6e1",
   "metadata": {},
   "source": [
    "# Dropout test"
   ]
  },
  {
   "cell_type": "code",
   "execution_count": 59,
   "id": "175d2491",
   "metadata": {},
   "outputs": [],
   "source": [
    "model_cnn_2_drop = tf.keras.Sequential([\n",
    "    tf.keras.layers.Conv2D(filters=32,kernel_size=3,padding=\"same\", activation=\"relu\", input_shape=[32,32,3]),\n",
    "    tf.keras.layers.Conv2D(filters=32,kernel_size=3,padding=\"same\", activation=\"relu\", kernel_regularizer=tf.keras.regularizers.l2(0.01)),\n",
    "    tf.keras.layers.MaxPool2D(pool_size=2,strides=2,padding='valid'),\n",
    "    tf.keras.layers.Dropout(0.3,noise_shape=None,seed=None),\n",
    "    tf.keras.layers.Conv2D(filters=64,kernel_size=3,padding=\"same\", activation=\"relu\", kernel_regularizer=tf.keras.regularizers.l2(0.01)),\n",
    "    tf.keras.layers.Conv2D(filters=64,kernel_size=3,padding=\"same\", activation=\"relu\", kernel_regularizer=tf.keras.regularizers.l2(0.01)),\n",
    "    tf.keras.layers.MaxPool2D(pool_size=2,strides=2,padding='valid'),\n",
    "    tf.keras.layers.Dropout(0.3,noise_shape=None,seed=None),\n",
    "    tf.keras.layers.Conv2D(filters=128,kernel_size=3,padding=\"same\", activation=\"relu\", kernel_regularizer=tf.keras.regularizers.l2(0.01)),\n",
    "    tf.keras.layers.Conv2D(filters=128,kernel_size=3,padding=\"same\", activation=\"relu\", kernel_regularizer=tf.keras.regularizers.l2(0.01)),\n",
    "    tf.keras.layers.MaxPool2D(pool_size=2,strides=2,padding='valid'),\n",
    "    tf.keras.layers.Dropout(0.3,noise_shape=None,seed=None),\n",
    "    tf.keras.layers.Conv2D(filters=256,kernel_size=3,padding=\"same\", activation=\"relu\", kernel_regularizer=tf.keras.regularizers.l2(0.01)),\n",
    "    tf.keras.layers.Conv2D(filters=256,kernel_size=3,padding=\"same\", activation=\"relu\", kernel_regularizer=tf.keras.regularizers.l2(0.01)),\n",
    "    tf.keras.layers.MaxPool2D(pool_size=2,strides=2,padding='valid'),\n",
    "    tf.keras.layers.Dropout(0.3,noise_shape=None,seed=None),\n",
    "    tf.keras.layers.Flatten(),\n",
    "    tf.keras.layers.Dropout(0.3,noise_shape=None,seed=None),\n",
    "    tf.keras.layers.Dense(units=128,activation='relu', kernel_regularizer=tf.keras.regularizers.l2(0.01)),\n",
    "    tf.keras.layers.Dense(10, activation='softmax', kernel_regularizer=tf.keras.regularizers.l2(0.01))\n",
    "])"
   ]
  },
  {
   "cell_type": "code",
   "execution_count": 60,
   "id": "6cc555ee",
   "metadata": {},
   "outputs": [],
   "source": [
    "model_cnn_2_drop.compile(loss=\"sparse_categorical_crossentropy\", \n",
    "                    optimizer=\"Adam\", \n",
    "                    metrics=[\"accuracy\"])"
   ]
  },
  {
   "cell_type": "code",
   "execution_count": 61,
   "id": "aedd0e15",
   "metadata": {
    "scrolled": true
   },
   "outputs": [
    {
     "name": "stdout",
     "output_type": "stream",
     "text": [
      "Epoch 1/20\n",
      "1563/1563 [==============================] - 84s 54ms/step - loss: 2.4223 - accuracy: 0.0974\n",
      "Epoch 2/20\n",
      "1563/1563 [==============================] - 84s 54ms/step - loss: 2.3028 - accuracy: 0.0985\n",
      "Epoch 3/20\n",
      "1563/1563 [==============================] - 84s 54ms/step - loss: 2.3027 - accuracy: 0.0998\n",
      "Epoch 4/20\n",
      "1563/1563 [==============================] - 84s 54ms/step - loss: 2.3028 - accuracy: 0.0999\n",
      "Epoch 5/20\n",
      "1563/1563 [==============================] - 84s 54ms/step - loss: 2.3028 - accuracy: 0.0987\n",
      "Epoch 6/20\n",
      "1563/1563 [==============================] - 84s 54ms/step - loss: 2.3028 - accuracy: 0.0989\n",
      "Epoch 7/20\n",
      "1563/1563 [==============================] - 84s 54ms/step - loss: 2.3028 - accuracy: 0.0974\n",
      "Epoch 8/20\n",
      "1563/1563 [==============================] - 85s 54ms/step - loss: 2.3028 - accuracy: 0.0976\n",
      "Epoch 9/20\n",
      "1563/1563 [==============================] - 85s 55ms/step - loss: 2.3028 - accuracy: 0.0961\n",
      "Epoch 10/20\n",
      "1563/1563 [==============================] - 84s 54ms/step - loss: 2.3028 - accuracy: 0.0978\n",
      "Epoch 11/20\n",
      "1563/1563 [==============================] - 84s 54ms/step - loss: 2.3028 - accuracy: 0.0992\n",
      "Epoch 12/20\n",
      "1563/1563 [==============================] - 84s 54ms/step - loss: 2.3028 - accuracy: 0.0993\n",
      "Epoch 13/20\n",
      "1563/1563 [==============================] - 84s 54ms/step - loss: 2.3028 - accuracy: 0.0978\n",
      "Epoch 14/20\n",
      "1563/1563 [==============================] - 85s 54ms/step - loss: 2.3028 - accuracy: 0.0989\n",
      "Epoch 15/20\n",
      "1563/1563 [==============================] - 84s 54ms/step - loss: 2.3028 - accuracy: 0.1002\n",
      "Epoch 16/20\n",
      "1563/1563 [==============================] - 84s 54ms/step - loss: 2.3028 - accuracy: 0.0970\n",
      "Epoch 17/20\n",
      "1563/1563 [==============================] - 84s 54ms/step - loss: 2.3028 - accuracy: 0.0994\n",
      "Epoch 18/20\n",
      "1563/1563 [==============================] - 84s 54ms/step - loss: 2.3028 - accuracy: 0.0979\n",
      "Epoch 19/20\n",
      "1563/1563 [==============================] - 84s 54ms/step - loss: 2.3028 - accuracy: 0.0996\n",
      "Epoch 20/20\n",
      "1563/1563 [==============================] - 84s 54ms/step - loss: 2.3028 - accuracy: 0.0984\n"
     ]
    }
   ],
   "source": [
    "history_cnn_2_drop = model_cnn_2_drop.fit(x_train, y_train, epochs=20)"
   ]
  },
  {
   "cell_type": "code",
   "execution_count": 62,
   "id": "da63b5c0",
   "metadata": {},
   "outputs": [],
   "source": [
    "model_cnn_2_nodrop = tf.keras.Sequential([\n",
    "    tf.keras.layers.Conv2D(filters=32,kernel_size=3,padding=\"same\", activation=\"relu\", input_shape=[32,32,3]),\n",
    "    tf.keras.layers.Conv2D(filters=32,kernel_size=3,padding=\"same\", activation=\"relu\", kernel_regularizer=tf.keras.regularizers.l2(0.01)),\n",
    "    tf.keras.layers.MaxPool2D(pool_size=2,strides=2,padding='valid'),\n",
    "    tf.keras.layers.Conv2D(filters=64,kernel_size=3,padding=\"same\", activation=\"relu\", kernel_regularizer=tf.keras.regularizers.l2(0.01)),\n",
    "    tf.keras.layers.Conv2D(filters=64,kernel_size=3,padding=\"same\", activation=\"relu\", kernel_regularizer=tf.keras.regularizers.l2(0.01)),\n",
    "    tf.keras.layers.MaxPool2D(pool_size=2,strides=2,padding='valid'),\n",
    "    tf.keras.layers.Conv2D(filters=128,kernel_size=3,padding=\"same\", activation=\"relu\", kernel_regularizer=tf.keras.regularizers.l2(0.01)),\n",
    "    tf.keras.layers.Conv2D(filters=128,kernel_size=3,padding=\"same\", activation=\"relu\", kernel_regularizer=tf.keras.regularizers.l2(0.01)),\n",
    "    tf.keras.layers.MaxPool2D(pool_size=2,strides=2,padding='valid'),\n",
    "    tf.keras.layers.Conv2D(filters=256,kernel_size=3,padding=\"same\", activation=\"relu\", kernel_regularizer=tf.keras.regularizers.l2(0.01)),\n",
    "    tf.keras.layers.Conv2D(filters=256,kernel_size=3,padding=\"same\", activation=\"relu\", kernel_regularizer=tf.keras.regularizers.l2(0.01)),\n",
    "    tf.keras.layers.MaxPool2D(pool_size=2,strides=2,padding='valid'),\n",
    "    tf.keras.layers.Flatten(),\n",
    "    tf.keras.layers.Dense(units=128,activation='relu', kernel_regularizer=tf.keras.regularizers.l2(0.01)),\n",
    "    tf.keras.layers.Dense(10, activation='softmax', kernel_regularizer=tf.keras.regularizers.l2(0.01))\n",
    "])"
   ]
  },
  {
   "cell_type": "code",
   "execution_count": 63,
   "id": "d9a25417",
   "metadata": {},
   "outputs": [],
   "source": [
    "model_cnn_2_nodrop.compile(loss=\"sparse_categorical_crossentropy\", \n",
    "                    optimizer=\"Adam\", \n",
    "                    metrics=[\"accuracy\"])"
   ]
  },
  {
   "cell_type": "code",
   "execution_count": null,
   "id": "04d6f833",
   "metadata": {},
   "outputs": [
    {
     "name": "stdout",
     "output_type": "stream",
     "text": [
      "Epoch 1/20\n",
      "1563/1563 [==============================] - 81s 52ms/step - loss: 2.4120 - accuracy: 0.0988\n",
      "Epoch 2/20\n",
      " 129/1563 [=>............................] - ETA: 1:13 - loss: 2.3028 - accuracy: 0.1027"
     ]
    }
   ],
   "source": [
    "history_cnn_2_nodrop = model_cnn_2_nodrop.fit(x_train, y_train, epochs=20)"
   ]
  },
  {
   "cell_type": "code",
   "execution_count": null,
   "id": "682ebdf8",
   "metadata": {},
   "outputs": [],
   "source": [
    "import matplotlib.pyplot as plt\n",
    "plt.plot(history_cnn_2_nodrop.history['accuracy'])\n",
    "plt.plot(history_cnn_2_drop.history['accuracy'])\n",
    "plt.title('CNN: model accuracy with dropout regularization')\n",
    "plt.ylabel('accuracy')\n",
    "plt.xlabel('epoch')\n",
    "plt.legend(['No dropout', 'dropout'], loc='upper left')\n",
    "plt.show()"
   ]
  },
  {
   "cell_type": "code",
   "execution_count": null,
   "id": "3125a6bf",
   "metadata": {},
   "outputs": [],
   "source": [
    "print(history_cnn_2_nodrop.history.keys())"
   ]
  },
  {
   "attachments": {
    "image.png": {
     "image/png": "[encoded data removed]"
    }
   },
   "cell_type": "markdown",
   "id": "d81dc27b",
   "metadata": {},
   "source": [
    "![image.png](attachment:image.png)"
   ]
  },
  {
   "cell_type": "code",
   "execution_count": null,
   "id": "12b8cc73",
   "metadata": {},
   "outputs": [],
   "source": []
  }
 ],
 "metadata": {
  "kernelspec": {
   "display_name": "Python 3 (ipykernel)",
   "language": "python",
   "name": "python3"
  },
  "language_info": {
   "codemirror_mode": {
    "name": "ipython",
    "version": 3
   },
   "file_extension": ".py",
   "mimetype": "text/x-python",
   "name": "python",
   "nbconvert_exporter": "python",
   "pygments_lexer": "ipython3",
   "version": "3.7.0"
  }
 },
 "nbformat": 4,
 "nbformat_minor": 5
}
