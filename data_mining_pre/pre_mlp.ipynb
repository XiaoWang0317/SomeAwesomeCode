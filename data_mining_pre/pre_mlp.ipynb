{
 "cells": [
  {
   "cell_type": "code",
   "execution_count": 1,
   "id": "e64cd7ee",
   "metadata": {},
   "outputs": [],
   "source": [
    "import tensorflow as tf\n",
    "import matplotlib.pyplot as plt\n",
    "%matplotlib inline"
   ]
  },
  {
   "cell_type": "code",
   "execution_count": 2,
   "id": "9437c155",
   "metadata": {},
   "outputs": [],
   "source": [
    "(trainX, trainy), (testX, testy) = tf.keras.datasets.cifar10.load_data()"
   ]
  },
  {
   "cell_type": "code",
   "execution_count": 3,
   "id": "907ee4e1",
   "metadata": {},
   "outputs": [
    {
     "data": {
      "text/plain": [
       "(50000, 32, 32, 3)"
      ]
     },
     "execution_count": 3,
     "metadata": {},
     "output_type": "execute_result"
    }
   ],
   "source": [
    "trainX.shape"
   ]
  },
  {
   "cell_type": "code",
   "execution_count": 4,
   "id": "4fce073a",
   "metadata": {},
   "outputs": [
    {
     "data": {
      "text/plain": [
       "(50000, 1)"
      ]
     },
     "execution_count": 4,
     "metadata": {},
     "output_type": "execute_result"
    }
   ],
   "source": [
    "trainy.shape"
   ]
  },
  {
   "cell_type": "code",
   "execution_count": 5,
   "id": "7fc1cfb1",
   "metadata": {},
   "outputs": [
    {
     "data": {
      "text/plain": [
       "array([[[ 59,  62,  63],\n",
       "        [ 43,  46,  45],\n",
       "        [ 50,  48,  43],\n",
       "        ...,\n",
       "        [158, 132, 108],\n",
       "        [152, 125, 102],\n",
       "        [148, 124, 103]],\n",
       "\n",
       "       [[ 16,  20,  20],\n",
       "        [  0,   0,   0],\n",
       "        [ 18,   8,   0],\n",
       "        ...,\n",
       "        [123,  88,  55],\n",
       "        [119,  83,  50],\n",
       "        [122,  87,  57]],\n",
       "\n",
       "       [[ 25,  24,  21],\n",
       "        [ 16,   7,   0],\n",
       "        [ 49,  27,   8],\n",
       "        ...,\n",
       "        [118,  84,  50],\n",
       "        [120,  84,  50],\n",
       "        [109,  73,  42]],\n",
       "\n",
       "       ...,\n",
       "\n",
       "       [[208, 170,  96],\n",
       "        [201, 153,  34],\n",
       "        [198, 161,  26],\n",
       "        ...,\n",
       "        [160, 133,  70],\n",
       "        [ 56,  31,   7],\n",
       "        [ 53,  34,  20]],\n",
       "\n",
       "       [[180, 139,  96],\n",
       "        [173, 123,  42],\n",
       "        [186, 144,  30],\n",
       "        ...,\n",
       "        [184, 148,  94],\n",
       "        [ 97,  62,  34],\n",
       "        [ 83,  53,  34]],\n",
       "\n",
       "       [[177, 144, 116],\n",
       "        [168, 129,  94],\n",
       "        [179, 142,  87],\n",
       "        ...,\n",
       "        [216, 184, 140],\n",
       "        [151, 118,  84],\n",
       "        [123,  92,  72]]], dtype=uint8)"
      ]
     },
     "execution_count": 5,
     "metadata": {},
     "output_type": "execute_result"
    }
   ],
   "source": [
    "trainX[0]"
   ]
  },
  {
   "cell_type": "code",
   "execution_count": 6,
   "id": "3e632235",
   "metadata": {},
   "outputs": [
    {
     "data": {
      "text/plain": [
       "<matplotlib.image.AxesImage at 0x241e04e7f98>"
      ]
     },
     "execution_count": 6,
     "metadata": {},
     "output_type": "execute_result"
    },
    {
     "data": {
      "image/png": "[encoded data removed]",
      "text/plain": [
       "<Figure size 640x480 with 1 Axes>"
      ]
     },
     "metadata": {},
     "output_type": "display_data"
    }
   ],
   "source": [
    "plt.imshow(trainX[0])"
   ]
  },
  {
   "cell_type": "code",
   "execution_count": 7,
   "id": "36619a74",
   "metadata": {},
   "outputs": [],
   "source": [
    "train_images = trainX/255\n",
    "test_images = testX/255"
   ]
  },
  {
   "cell_type": "code",
   "execution_count": 8,
   "id": "185bc01f",
   "metadata": {},
   "outputs": [],
   "source": [
    "dataset_images = tf.data.Dataset.from_tensor_slices(train_images)"
   ]
  },
  {
   "cell_type": "code",
   "execution_count": 9,
   "id": "830f6364",
   "metadata": {},
   "outputs": [
    {
     "data": {
      "text/plain": [
       "<TensorSliceDataset shapes: (32, 32, 3), types: tf.float64>"
      ]
     },
     "execution_count": 9,
     "metadata": {},
     "output_type": "execute_result"
    }
   ],
   "source": [
    "dataset_images"
   ]
  },
  {
   "cell_type": "code",
   "execution_count": 10,
   "id": "aa55b3e9",
   "metadata": {},
   "outputs": [],
   "source": [
    "dataset_labels = tf.data.Dataset.from_tensor_slices(trainy)"
   ]
  },
  {
   "cell_type": "code",
   "execution_count": 11,
   "id": "d403dbf8",
   "metadata": {},
   "outputs": [
    {
     "data": {
      "text/plain": [
       "<TensorSliceDataset shapes: (1,), types: tf.uint8>"
      ]
     },
     "execution_count": 11,
     "metadata": {},
     "output_type": "execute_result"
    }
   ],
   "source": [
    "dataset_labels"
   ]
  },
  {
   "cell_type": "code",
   "execution_count": 12,
   "id": "4105935e",
   "metadata": {},
   "outputs": [],
   "source": [
    "dataset = tf.data.Dataset.zip((dataset_images, dataset_labels))"
   ]
  },
  {
   "cell_type": "code",
   "execution_count": 13,
   "id": "6bf66fd4",
   "metadata": {},
   "outputs": [
    {
     "data": {
      "text/plain": [
       "<ZipDataset shapes: ((32, 32, 3), (1,)), types: (tf.float64, tf.uint8)>"
      ]
     },
     "execution_count": 13,
     "metadata": {},
     "output_type": "execute_result"
    }
   ],
   "source": [
    "dataset"
   ]
  },
  {
   "cell_type": "code",
   "execution_count": 14,
   "id": "bcda4a71",
   "metadata": {},
   "outputs": [],
   "source": [
    "batch_size = 256\n",
    "dataset = dataset.shuffle(train_images.shape[0]).repeat().batch(batch_size)"
   ]
  },
  {
   "cell_type": "markdown",
   "id": "414a8641",
   "metadata": {},
   "source": [
    "# L1, L2 test"
   ]
  },
  {
   "cell_type": "code",
   "execution_count": 15,
   "id": "ade78cc8",
   "metadata": {},
   "outputs": [],
   "source": [
    "model_dense_0 = tf.keras.Sequential([\n",
    "    tf.keras.layers.Flatten(input_shape=(32, 32, 3)),\n",
    "    tf.keras.layers.Dense(128, activation='relu'),\n",
    "    tf.keras.layers.Dense(64, activation='relu'),\n",
    "    tf.keras.layers.Dense(32, activation='relu'),\n",
    "    tf.keras.layers.Dense(10, activation='softmax')\n",
    "])"
   ]
  },
  {
   "cell_type": "code",
   "execution_count": 16,
   "id": "d6c76f7f",
   "metadata": {},
   "outputs": [],
   "source": [
    "model_dense_0.compile(optimizer='adam',\n",
    "              loss='sparse_categorical_crossentropy',\n",
    "              metrics=['accuracy'])"
   ]
  },
  {
   "cell_type": "code",
   "execution_count": 17,
   "id": "c6644ab1",
   "metadata": {},
   "outputs": [],
   "source": [
    "steps_per_epoch = train_images.shape[0]/batch_size"
   ]
  },
  {
   "cell_type": "code",
   "execution_count": 18,
   "id": "e4337431",
   "metadata": {},
   "outputs": [
    {
     "name": "stdout",
     "output_type": "stream",
     "text": [
      "Epoch 1/20\n",
      "196/195 [==============================] - 2s 9ms/step - loss: 1.9885 - accuracy: 0.2770\n",
      "Epoch 2/20\n",
      "196/195 [==============================] - 2s 10ms/step - loss: 1.7977 - accuracy: 0.3597\n",
      "Epoch 3/20\n",
      "196/195 [==============================] - 2s 11ms/step - loss: 1.7060 - accuracy: 0.3923\n",
      "Epoch 4/20\n",
      "196/195 [==============================] - 2s 11ms/step - loss: 1.6514 - accuracy: 0.4106\n",
      "Epoch 5/20\n",
      "196/195 [==============================] - 2s 11ms/step - loss: 1.6005 - accuracy: 0.4291\n",
      "Epoch 6/20\n",
      "196/195 [==============================] - 2s 11ms/step - loss: 1.5739 - accuracy: 0.4406\n",
      "Epoch 7/20\n",
      "196/195 [==============================] - 2s 12ms/step - loss: 1.5394 - accuracy: 0.4535\n",
      "Epoch 8/20\n",
      "196/195 [==============================] - 2s 12ms/step - loss: 1.5229 - accuracy: 0.4574\n",
      "Epoch 9/20\n",
      "196/195 [==============================] - 2s 12ms/step - loss: 1.4810 - accuracy: 0.4716\n",
      "Epoch 10/20\n",
      "196/195 [==============================] - 2s 12ms/step - loss: 1.4780 - accuracy: 0.4728\n",
      "Epoch 11/20\n",
      "196/195 [==============================] - 2s 12ms/step - loss: 1.4701 - accuracy: 0.4775\n",
      "Epoch 12/20\n",
      "196/195 [==============================] - 2s 12ms/step - loss: 1.4379 - accuracy: 0.4887\n",
      "Epoch 13/20\n",
      "196/195 [==============================] - 2s 12ms/step - loss: 1.4308 - accuracy: 0.4907\n",
      "Epoch 14/20\n",
      "196/195 [==============================] - 2s 12ms/step - loss: 1.4189 - accuracy: 0.4963\n",
      "Epoch 15/20\n",
      "196/195 [==============================] - 2s 12ms/step - loss: 1.4157 - accuracy: 0.4970\n",
      "Epoch 16/20\n",
      "196/195 [==============================] - 2s 12ms/step - loss: 1.4013 - accuracy: 0.5026\n",
      "Epoch 17/20\n",
      "196/195 [==============================] - 2s 12ms/step - loss: 1.3878 - accuracy: 0.5056\n",
      "Epoch 18/20\n",
      "196/195 [==============================] - 2s 12ms/step - loss: 1.3806 - accuracy: 0.5091\n",
      "Epoch 19/20\n",
      "196/195 [==============================] - 2s 12ms/step - loss: 1.3713 - accuracy: 0.5123\n",
      "Epoch 20/20\n",
      "196/195 [==============================] - 2s 12ms/step - loss: 1.3699 - accuracy: 0.5098\n"
     ]
    }
   ],
   "source": [
    "history_dense_0 = model_dense_0.fit(dataset, epochs=20, steps_per_epoch=steps_per_epoch)"
   ]
  },
  {
   "cell_type": "code",
   "execution_count": 19,
   "id": "ee46e192",
   "metadata": {},
   "outputs": [
    {
     "name": "stdout",
     "output_type": "stream",
     "text": [
      "dict_keys(['loss', 'accuracy'])\n"
     ]
    }
   ],
   "source": [
    "print(history_dense_0.history.keys())"
   ]
  },
  {
   "cell_type": "code",
   "execution_count": 20,
   "id": "b3ec16a5",
   "metadata": {},
   "outputs": [],
   "source": [
    "model_dense_1 = tf.keras.Sequential([\n",
    "    tf.keras.layers.Flatten(input_shape=(32, 32, 3)),\n",
    "    tf.keras.layers.Dense(128, activation='relu', kernel_regularizer =tf.keras.regularizers.l1(l=0.01)),\n",
    "    tf.keras.layers.Dense(64, activation='relu', kernel_regularizer =tf.keras.regularizers.l1(l=0.01)),\n",
    "    tf.keras.layers.Dense(32, activation='relu', kernel_regularizer =tf.keras.regularizers.l1(l=0.01)),\n",
    "    tf.keras.layers.Dense(10, activation='softmax')\n",
    "])"
   ]
  },
  {
   "cell_type": "code",
   "execution_count": 21,
   "id": "6400719d",
   "metadata": {},
   "outputs": [],
   "source": [
    "model_dense_1.compile(optimizer='adam',\n",
    "              loss='sparse_categorical_crossentropy',\n",
    "              metrics=['accuracy'])\n",
    "steps_per_epoch = train_images.shape[0]/batch_size"
   ]
  },
  {
   "cell_type": "code",
   "execution_count": 22,
   "id": "6fcaf300",
   "metadata": {},
   "outputs": [
    {
     "name": "stdout",
     "output_type": "stream",
     "text": [
      "Epoch 1/20\n",
      "196/195 [==============================] - 3s 14ms/step - loss: 13.4019 - accuracy: 0.1204\n",
      "Epoch 2/20\n",
      "196/195 [==============================] - 3s 14ms/step - loss: 2.7650 - accuracy: 0.0992\n",
      "Epoch 3/20\n",
      "196/195 [==============================] - 3s 14ms/step - loss: 2.7436 - accuracy: 0.0984\n",
      "Epoch 4/20\n",
      "196/195 [==============================] - 3s 14ms/step - loss: 2.7442 - accuracy: 0.0987\n",
      "Epoch 5/20\n",
      "196/195 [==============================] - 3s 14ms/step - loss: 2.7444 - accuracy: 0.0983\n",
      "Epoch 6/20\n",
      "196/195 [==============================] - 3s 14ms/step - loss: 2.7445 - accuracy: 0.0997\n",
      "Epoch 7/20\n",
      "196/195 [==============================] - 3s 14ms/step - loss: 2.7447 - accuracy: 0.0981\n",
      "Epoch 8/20\n",
      "196/195 [==============================] - 3s 15ms/step - loss: 2.7447 - accuracy: 0.0977\n",
      "Epoch 9/20\n",
      "196/195 [==============================] - 3s 15ms/step - loss: 2.7448 - accuracy: 0.0970\n",
      "Epoch 10/20\n",
      "196/195 [==============================] - 3s 14ms/step - loss: 2.7448 - accuracy: 0.0992\n",
      "Epoch 11/20\n",
      "196/195 [==============================] - 3s 14ms/step - loss: 2.7449 - accuracy: 0.0963\n",
      "Epoch 12/20\n",
      "196/195 [==============================] - 3s 15ms/step - loss: 2.7449 - accuracy: 0.0994\n",
      "Epoch 13/20\n",
      "196/195 [==============================] - 3s 15ms/step - loss: 2.7449 - accuracy: 0.0989\n",
      "Epoch 14/20\n",
      "196/195 [==============================] - 3s 15ms/step - loss: 2.7448 - accuracy: 0.0982\n",
      "Epoch 15/20\n",
      "196/195 [==============================] - 3s 15ms/step - loss: 2.7449 - accuracy: 0.0983\n",
      "Epoch 16/20\n",
      "196/195 [==============================] - 3s 14ms/step - loss: 2.7448 - accuracy: 0.1003\n",
      "Epoch 17/20\n",
      "196/195 [==============================] - 3s 15ms/step - loss: 2.7449 - accuracy: 0.0974\n",
      "Epoch 18/20\n",
      "196/195 [==============================] - 3s 15ms/step - loss: 2.7449 - accuracy: 0.0987\n",
      "Epoch 19/20\n",
      "196/195 [==============================] - 3s 15ms/step - loss: 2.7448 - accuracy: 0.0995\n",
      "Epoch 20/20\n",
      "196/195 [==============================] - 3s 15ms/step - loss: 2.7449 - accuracy: 0.0982\n"
     ]
    }
   ],
   "source": [
    "history_dense_1 = model_dense_1.fit(dataset, epochs=20, steps_per_epoch=steps_per_epoch)"
   ]
  },
  {
   "cell_type": "code",
   "execution_count": 23,
   "id": "df9c4b33",
   "metadata": {},
   "outputs": [
    {
     "name": "stdout",
     "output_type": "stream",
     "text": [
      "dict_keys(['loss', 'accuracy'])\n"
     ]
    }
   ],
   "source": [
    "print(history_dense_1.history.keys())"
   ]
  },
  {
   "cell_type": "code",
   "execution_count": 24,
   "id": "0949938b",
   "metadata": {},
   "outputs": [],
   "source": [
    "model_dense_2 = tf.keras.Sequential([\n",
    "    tf.keras.layers.Flatten(input_shape=(32, 32, 3)),\n",
    "    tf.keras.layers.Dense(128, activation='relu', kernel_regularizer =tf.keras.regularizers.l2(l=0.01)),\n",
    "    tf.keras.layers.Dense(64, activation='relu', kernel_regularizer =tf.keras.regularizers.l2(l=0.01)),\n",
    "    tf.keras.layers.Dense(32, activation='relu', kernel_regularizer =tf.keras.regularizers.l2(l=0.01)),\n",
    "    tf.keras.layers.Dense(10, activation='softmax')\n",
    "])"
   ]
  },
  {
   "cell_type": "code",
   "execution_count": 25,
   "id": "b6acba75",
   "metadata": {},
   "outputs": [],
   "source": [
    "model_dense_2.compile(optimizer='adam',\n",
    "              loss='sparse_categorical_crossentropy',\n",
    "              metrics=['accuracy'])\n",
    "steps_per_epoch = train_images.shape[0]/batch_size"
   ]
  },
  {
   "cell_type": "code",
   "execution_count": 26,
   "id": "188be3de",
   "metadata": {},
   "outputs": [
    {
     "name": "stdout",
     "output_type": "stream",
     "text": [
      "Epoch 1/20\n",
      "196/195 [==============================] - 3s 15ms/step - loss: 3.0247 - accuracy: 0.2669\n",
      "Epoch 2/20\n",
      "196/195 [==============================] - 3s 15ms/step - loss: 2.1030 - accuracy: 0.3412\n",
      "Epoch 3/20\n",
      "196/195 [==============================] - 3s 15ms/step - loss: 2.0012 - accuracy: 0.3604\n",
      "Epoch 4/20\n",
      "196/195 [==============================] - 3s 15ms/step - loss: 1.9578 - accuracy: 0.3710\n",
      "Epoch 5/20\n",
      "196/195 [==============================] - 3s 15ms/step - loss: 1.9384 - accuracy: 0.3726\n",
      "Epoch 6/20\n",
      "196/195 [==============================] - 3s 15ms/step - loss: 1.9212 - accuracy: 0.3767\n",
      "Epoch 7/20\n",
      "196/195 [==============================] - 3s 15ms/step - loss: 1.8954 - accuracy: 0.3843\n",
      "Epoch 8/20\n",
      "196/195 [==============================] - 3s 15ms/step - loss: 1.8867 - accuracy: 0.3880\n",
      "Epoch 9/20\n",
      "196/195 [==============================] - 3s 15ms/step - loss: 1.8698 - accuracy: 0.3893\n",
      "Epoch 10/20\n",
      "196/195 [==============================] - 3s 15ms/step - loss: 1.8597 - accuracy: 0.3948\n",
      "Epoch 11/20\n",
      "196/195 [==============================] - 3s 15ms/step - loss: 1.8552 - accuracy: 0.3957\n",
      "Epoch 12/20\n",
      "196/195 [==============================] - 3s 15ms/step - loss: 1.8520 - accuracy: 0.3971\n",
      "Epoch 13/20\n",
      "196/195 [==============================] - 3s 15ms/step - loss: 1.8300 - accuracy: 0.4032\n",
      "Epoch 14/20\n",
      "196/195 [==============================] - 3s 15ms/step - loss: 1.8321 - accuracy: 0.3996\n",
      "Epoch 15/20\n",
      "196/195 [==============================] - 3s 15ms/step - loss: 1.8269 - accuracy: 0.4023\n",
      "Epoch 16/20\n",
      "196/195 [==============================] - 3s 15ms/step - loss: 1.8210 - accuracy: 0.4051\n",
      "Epoch 17/20\n",
      "196/195 [==============================] - 3s 15ms/step - loss: 1.8106 - accuracy: 0.4082\n",
      "Epoch 18/20\n",
      "196/195 [==============================] - 3s 15ms/step - loss: 1.8034 - accuracy: 0.4100\n",
      "Epoch 19/20\n",
      "196/195 [==============================] - 3s 15ms/step - loss: 1.8010 - accuracy: 0.4103\n",
      "Epoch 20/20\n",
      "196/195 [==============================] - 3s 15ms/step - loss: 1.7961 - accuracy: 0.4125\n"
     ]
    }
   ],
   "source": [
    "history_dense_2 = model_dense_2.fit(dataset, epochs=20, steps_per_epoch=steps_per_epoch)"
   ]
  },
  {
   "cell_type": "code",
   "execution_count": 27,
   "id": "f9224fa9",
   "metadata": {},
   "outputs": [
    {
     "name": "stdout",
     "output_type": "stream",
     "text": [
      "dict_keys(['loss', 'accuracy'])\n"
     ]
    }
   ],
   "source": [
    "print(history_dense_2.history.keys())"
   ]
  },
  {
   "cell_type": "code",
   "execution_count": 38,
   "id": "ed2350a3",
   "metadata": {},
   "outputs": [
    {
     "data": {
      "image/png": "[encoded data removed]",
      "text/plain": [
       "<Figure size 640x480 with 1 Axes>"
      ]
     },
     "metadata": {},
     "output_type": "display_data"
    }
   ],
   "source": [
    "import matplotlib.pyplot as plt\n",
    "plt.plot(history_dense_0.history['accuracy'])\n",
    "plt.plot(history_dense_1.history['accuracy'])\n",
    "plt.plot(history_dense_2.history['accuracy'])\n",
    "plt.title('MLP: model accuracy with different regularization')\n",
    "plt.ylabel('accuracy')\n",
    "plt.xlabel('epoch')\n",
    "plt.legend(['L2', 'L1', 'No regularization'], loc='upper left')\n",
    "plt.show()"
   ]
  },
  {
   "attachments": {
    "image.png": {
     "image/png": "[encoded data removed]"
    }
   },
   "cell_type": "markdown",
   "id": "117fd3e9",
   "metadata": {},
   "source": [
    "![image.png](attachment:image.png)"
   ]
  },
  {
   "cell_type": "markdown",
   "id": "f909980e",
   "metadata": {},
   "source": [
    "# Dropout test"
   ]
  },
  {
   "cell_type": "code",
   "execution_count": 34,
   "id": "fa10384c",
   "metadata": {},
   "outputs": [],
   "source": [
    "model_dense_2_drop = tf.keras.Sequential([\n",
    "    tf.keras.layers.Flatten(input_shape=(32, 32, 3)),\n",
    "    tf.keras.layers.Dense(128, activation='relu', kernel_regularizer =tf.keras.regularizers.l2(l=0.01)),\n",
    "    tf.keras.layers.Dense(64, activation='relu', kernel_regularizer =tf.keras.regularizers.l2(l=0.01)),\n",
    "    tf.keras.layers.Dense(32, activation='relu', kernel_regularizer =tf.keras.regularizers.l2(l=0.01)),\n",
    "    tf.keras.layers.Dropout(0.1,noise_shape=None,seed=None),\n",
    "    tf.keras.layers.Dense(10, activation='softmax')\n",
    "])"
   ]
  },
  {
   "cell_type": "code",
   "execution_count": 35,
   "id": "d78c4b03",
   "metadata": {},
   "outputs": [],
   "source": [
    "model_dense_2_drop.compile(optimizer='adam',\n",
    "              loss='sparse_categorical_crossentropy',\n",
    "              metrics=['accuracy'])\n",
    "steps_per_epoch = train_images.shape[0]/batch_size"
   ]
  },
  {
   "cell_type": "code",
   "execution_count": 36,
   "id": "fccb9915",
   "metadata": {},
   "outputs": [
    {
     "name": "stdout",
     "output_type": "stream",
     "text": [
      "Epoch 1/20\n",
      "196/195 [==============================] - 3s 15ms/step - loss: 3.0745 - accuracy: 0.2199\n",
      "Epoch 2/20\n",
      "196/195 [==============================] - 3s 15ms/step - loss: 2.1698 - accuracy: 0.2923\n",
      "Epoch 3/20\n",
      "196/195 [==============================] - 3s 15ms/step - loss: 2.0678 - accuracy: 0.3118\n",
      "Epoch 4/20\n",
      "196/195 [==============================] - 3s 15ms/step - loss: 2.0245 - accuracy: 0.3220\n",
      "Epoch 5/20\n",
      "196/195 [==============================] - 3s 15ms/step - loss: 1.9880 - accuracy: 0.3280\n",
      "Epoch 6/20\n",
      "196/195 [==============================] - 3s 15ms/step - loss: 1.9792 - accuracy: 0.3315\n",
      "Epoch 7/20\n",
      "196/195 [==============================] - 3s 15ms/step - loss: 1.9620 - accuracy: 0.3322\n",
      "Epoch 8/20\n",
      "196/195 [==============================] - 3s 15ms/step - loss: 1.9510 - accuracy: 0.3388\n",
      "Epoch 9/20\n",
      "196/195 [==============================] - 3s 15ms/step - loss: 1.9320 - accuracy: 0.3450\n",
      "Epoch 10/20\n",
      "196/195 [==============================] - 3s 15ms/step - loss: 1.9289 - accuracy: 0.3432\n",
      "Epoch 11/20\n",
      "196/195 [==============================] - 3s 15ms/step - loss: 1.9287 - accuracy: 0.3447\n",
      "Epoch 12/20\n",
      "196/195 [==============================] - 3s 15ms/step - loss: 1.9099 - accuracy: 0.3523\n",
      "Epoch 13/20\n",
      "196/195 [==============================] - 3s 15ms/step - loss: 1.9150 - accuracy: 0.3470\n",
      "Epoch 14/20\n",
      "196/195 [==============================] - 3s 15ms/step - loss: 1.9060 - accuracy: 0.3508\n",
      "Epoch 15/20\n",
      "196/195 [==============================] - 3s 15ms/step - loss: 1.8981 - accuracy: 0.3549\n",
      "Epoch 16/20\n",
      "196/195 [==============================] - 3s 15ms/step - loss: 1.8960 - accuracy: 0.3539\n",
      "Epoch 17/20\n",
      "196/195 [==============================] - 3s 15ms/step - loss: 1.8795 - accuracy: 0.3628\n",
      "Epoch 18/20\n",
      "196/195 [==============================] - 3s 15ms/step - loss: 1.8863 - accuracy: 0.3601\n",
      "Epoch 19/20\n",
      "196/195 [==============================] - 3s 15ms/step - loss: 1.8717 - accuracy: 0.3636\n",
      "Epoch 20/20\n",
      "196/195 [==============================] - 3s 15ms/step - loss: 1.8762 - accuracy: 0.3638\n"
     ]
    }
   ],
   "source": [
    "history_dense_2_drop = model_dense_2_drop.fit(dataset, epochs=20, steps_per_epoch=steps_per_epoch)"
   ]
  },
  {
   "cell_type": "code",
   "execution_count": 39,
   "id": "f75c8100",
   "metadata": {},
   "outputs": [
    {
     "data": {
      "image/png": "[encoded data removed]",
      "text/plain": [
       "<Figure size 640x480 with 1 Axes>"
      ]
     },
     "metadata": {},
     "output_type": "display_data"
    }
   ],
   "source": [
    "import matplotlib.pyplot as plt\n",
    "plt.plot(history_dense_2_drop.history['accuracy'])\n",
    "plt.plot(history_dense_2.history['accuracy'])\n",
    "plt.title('MLP: model accuracy with different regularization')\n",
    "plt.ylabel('accuracy')\n",
    "plt.xlabel('epoch')\n",
    "plt.legend(['dropout', 'No dropout'], loc='upper left')\n",
    "plt.show()"
   ]
  },
  {
   "cell_type": "code",
   "execution_count": null,
   "id": "da48d9a4",
   "metadata": {},
   "outputs": [],
   "source": []
  }
 ],
 "metadata": {
  "kernelspec": {
   "display_name": "Python 3 (ipykernel)",
   "language": "python",
   "name": "python3"
  },
  "language_info": {
   "codemirror_mode": {
    "name": "ipython",
    "version": 3
   },
   "file_extension": ".py",
   "mimetype": "text/x-python",
   "name": "python",
   "nbconvert_exporter": "python",
   "pygments_lexer": "ipython3",
   "version": "3.7.0"
  }
 },
 "nbformat": 4,
 "nbformat_minor": 5
}
