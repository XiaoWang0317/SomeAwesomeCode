{
 "cells": [
  {
   "cell_type": "code",
   "execution_count": 1,
   "id": "e64cd7ee",
   "metadata": {},
   "outputs": [],
   "source": [
    "import tensorflow as tf\n",
    "import matplotlib.pyplot as plt\n",
    "%matplotlib inline"
   ]
  },
  {
   "cell_type": "code",
   "execution_count": 2,
   "id": "9437c155",
   "metadata": {},
   "outputs": [],
   "source": [
    "(trainX, trainy), (testX, testy) = tf.keras.datasets.mnist.load_data()"
   ]
  },
  {
   "cell_type": "code",
   "execution_count": 3,
   "id": "907ee4e1",
   "metadata": {},
   "outputs": [
    {
     "data": {
      "text/plain": [
       "(60000, 28, 28)"
      ]
     },
     "execution_count": 3,
     "metadata": {},
     "output_type": "execute_result"
    }
   ],
   "source": [
    "trainX.shape"
   ]
  },
  {
   "cell_type": "code",
   "execution_count": 4,
   "id": "4fce073a",
   "metadata": {},
   "outputs": [
    {
     "data": {
      "text/plain": [
       "(60000,)"
      ]
     },
     "execution_count": 4,
     "metadata": {},
     "output_type": "execute_result"
    }
   ],
   "source": [
    "trainy.shape"
   ]
  },
  {
   "cell_type": "code",
   "execution_count": 5,
   "id": "7fc1cfb1",
   "metadata": {},
   "outputs": [
    {
     "data": {
      "text/plain": [
       "array([[  0,   0,   0,   0,   0,   0,   0,   0,   0,   0,   0,   0,   0,\n",
       "          0,   0,   0,   0,   0,   0,   0,   0,   0,   0,   0,   0,   0,\n",
       "          0,   0],\n",
       "       [  0,   0,   0,   0,   0,   0,   0,   0,   0,   0,   0,   0,   0,\n",
       "          0,   0,   0,   0,   0,   0,   0,   0,   0,   0,   0,   0,   0,\n",
       "          0,   0],\n",
       "       [  0,   0,   0,   0,   0,   0,   0,   0,   0,   0,   0,   0,   0,\n",
       "          0,   0,   0,   0,   0,   0,   0,   0,   0,   0,   0,   0,   0,\n",
       "          0,   0],\n",
       "       [  0,   0,   0,   0,   0,   0,   0,   0,   0,   0,   0,   0,   0,\n",
       "          0,   0,   0,   0,   0,   0,   0,   0,   0,   0,   0,   0,   0,\n",
       "          0,   0],\n",
       "       [  0,   0,   0,   0,   0,   0,   0,   0,   0,   0,   0,   0,   0,\n",
       "          0,   0,   0,   0,   0,   0,   0,   0,   0,   0,   0,   0,   0,\n",
       "          0,   0],\n",
       "       [  0,   0,   0,   0,   0,   0,   0,   0,   0,   0,   0,   0,   3,\n",
       "         18,  18,  18, 126, 136, 175,  26, 166, 255, 247, 127,   0,   0,\n",
       "          0,   0],\n",
       "       [  0,   0,   0,   0,   0,   0,   0,   0,  30,  36,  94, 154, 170,\n",
       "        253, 253, 253, 253, 253, 225, 172, 253, 242, 195,  64,   0,   0,\n",
       "          0,   0],\n",
       "       [  0,   0,   0,   0,   0,   0,   0,  49, 238, 253, 253, 253, 253,\n",
       "        253, 253, 253, 253, 251,  93,  82,  82,  56,  39,   0,   0,   0,\n",
       "          0,   0],\n",
       "       [  0,   0,   0,   0,   0,   0,   0,  18, 219, 253, 253, 253, 253,\n",
       "        253, 198, 182, 247, 241,   0,   0,   0,   0,   0,   0,   0,   0,\n",
       "          0,   0],\n",
       "       [  0,   0,   0,   0,   0,   0,   0,   0,  80, 156, 107, 253, 253,\n",
       "        205,  11,   0,  43, 154,   0,   0,   0,   0,   0,   0,   0,   0,\n",
       "          0,   0],\n",
       "       [  0,   0,   0,   0,   0,   0,   0,   0,   0,  14,   1, 154, 253,\n",
       "         90,   0,   0,   0,   0,   0,   0,   0,   0,   0,   0,   0,   0,\n",
       "          0,   0],\n",
       "       [  0,   0,   0,   0,   0,   0,   0,   0,   0,   0,   0, 139, 253,\n",
       "        190,   2,   0,   0,   0,   0,   0,   0,   0,   0,   0,   0,   0,\n",
       "          0,   0],\n",
       "       [  0,   0,   0,   0,   0,   0,   0,   0,   0,   0,   0,  11, 190,\n",
       "        253,  70,   0,   0,   0,   0,   0,   0,   0,   0,   0,   0,   0,\n",
       "          0,   0],\n",
       "       [  0,   0,   0,   0,   0,   0,   0,   0,   0,   0,   0,   0,  35,\n",
       "        241, 225, 160, 108,   1,   0,   0,   0,   0,   0,   0,   0,   0,\n",
       "          0,   0],\n",
       "       [  0,   0,   0,   0,   0,   0,   0,   0,   0,   0,   0,   0,   0,\n",
       "         81, 240, 253, 253, 119,  25,   0,   0,   0,   0,   0,   0,   0,\n",
       "          0,   0],\n",
       "       [  0,   0,   0,   0,   0,   0,   0,   0,   0,   0,   0,   0,   0,\n",
       "          0,  45, 186, 253, 253, 150,  27,   0,   0,   0,   0,   0,   0,\n",
       "          0,   0],\n",
       "       [  0,   0,   0,   0,   0,   0,   0,   0,   0,   0,   0,   0,   0,\n",
       "          0,   0,  16,  93, 252, 253, 187,   0,   0,   0,   0,   0,   0,\n",
       "          0,   0],\n",
       "       [  0,   0,   0,   0,   0,   0,   0,   0,   0,   0,   0,   0,   0,\n",
       "          0,   0,   0,   0, 249, 253, 249,  64,   0,   0,   0,   0,   0,\n",
       "          0,   0],\n",
       "       [  0,   0,   0,   0,   0,   0,   0,   0,   0,   0,   0,   0,   0,\n",
       "          0,  46, 130, 183, 253, 253, 207,   2,   0,   0,   0,   0,   0,\n",
       "          0,   0],\n",
       "       [  0,   0,   0,   0,   0,   0,   0,   0,   0,   0,   0,   0,  39,\n",
       "        148, 229, 253, 253, 253, 250, 182,   0,   0,   0,   0,   0,   0,\n",
       "          0,   0],\n",
       "       [  0,   0,   0,   0,   0,   0,   0,   0,   0,   0,  24, 114, 221,\n",
       "        253, 253, 253, 253, 201,  78,   0,   0,   0,   0,   0,   0,   0,\n",
       "          0,   0],\n",
       "       [  0,   0,   0,   0,   0,   0,   0,   0,  23,  66, 213, 253, 253,\n",
       "        253, 253, 198,  81,   2,   0,   0,   0,   0,   0,   0,   0,   0,\n",
       "          0,   0],\n",
       "       [  0,   0,   0,   0,   0,   0,  18, 171, 219, 253, 253, 253, 253,\n",
       "        195,  80,   9,   0,   0,   0,   0,   0,   0,   0,   0,   0,   0,\n",
       "          0,   0],\n",
       "       [  0,   0,   0,   0,  55, 172, 226, 253, 253, 253, 253, 244, 133,\n",
       "         11,   0,   0,   0,   0,   0,   0,   0,   0,   0,   0,   0,   0,\n",
       "          0,   0],\n",
       "       [  0,   0,   0,   0, 136, 253, 253, 253, 212, 135, 132,  16,   0,\n",
       "          0,   0,   0,   0,   0,   0,   0,   0,   0,   0,   0,   0,   0,\n",
       "          0,   0],\n",
       "       [  0,   0,   0,   0,   0,   0,   0,   0,   0,   0,   0,   0,   0,\n",
       "          0,   0,   0,   0,   0,   0,   0,   0,   0,   0,   0,   0,   0,\n",
       "          0,   0],\n",
       "       [  0,   0,   0,   0,   0,   0,   0,   0,   0,   0,   0,   0,   0,\n",
       "          0,   0,   0,   0,   0,   0,   0,   0,   0,   0,   0,   0,   0,\n",
       "          0,   0],\n",
       "       [  0,   0,   0,   0,   0,   0,   0,   0,   0,   0,   0,   0,   0,\n",
       "          0,   0,   0,   0,   0,   0,   0,   0,   0,   0,   0,   0,   0,\n",
       "          0,   0]], dtype=uint8)"
      ]
     },
     "execution_count": 5,
     "metadata": {},
     "output_type": "execute_result"
    }
   ],
   "source": [
    "trainX[0]"
   ]
  },
  {
   "cell_type": "code",
   "execution_count": 6,
   "id": "3e632235",
   "metadata": {},
   "outputs": [
    {
     "data": {
      "text/plain": [
       "<matplotlib.image.AxesImage at 0x2cb7c79c5f8>"
      ]
     },
     "execution_count": 6,
     "metadata": {},
     "output_type": "execute_result"
    },
    {
     "data": {
      "image/png": "[encoded data removed]",
      "text/plain": [
       "<Figure size 640x480 with 1 Axes>"
      ]
     },
     "metadata": {},
     "output_type": "display_data"
    }
   ],
   "source": [
    "plt.imshow(trainX[0])"
   ]
  },
  {
   "cell_type": "code",
   "execution_count": 7,
   "id": "36619a74",
   "metadata": {},
   "outputs": [],
   "source": [
    "train_images = trainX/255\n",
    "test_images = testX/255"
   ]
  },
  {
   "cell_type": "code",
   "execution_count": 8,
   "id": "185bc01f",
   "metadata": {},
   "outputs": [],
   "source": [
    "dataset_images = tf.data.Dataset.from_tensor_slices(train_images)"
   ]
  },
  {
   "cell_type": "code",
   "execution_count": 9,
   "id": "830f6364",
   "metadata": {},
   "outputs": [
    {
     "data": {
      "text/plain": [
       "<TensorSliceDataset shapes: (28, 28), types: tf.float64>"
      ]
     },
     "execution_count": 9,
     "metadata": {},
     "output_type": "execute_result"
    }
   ],
   "source": [
    "dataset_images"
   ]
  },
  {
   "cell_type": "code",
   "execution_count": 10,
   "id": "aa55b3e9",
   "metadata": {},
   "outputs": [],
   "source": [
    "dataset_labels = tf.data.Dataset.from_tensor_slices(trainy)"
   ]
  },
  {
   "cell_type": "code",
   "execution_count": 11,
   "id": "d403dbf8",
   "metadata": {},
   "outputs": [
    {
     "data": {
      "text/plain": [
       "<TensorSliceDataset shapes: (), types: tf.uint8>"
      ]
     },
     "execution_count": 11,
     "metadata": {},
     "output_type": "execute_result"
    }
   ],
   "source": [
    "dataset_labels"
   ]
  },
  {
   "cell_type": "code",
   "execution_count": 12,
   "id": "4105935e",
   "metadata": {},
   "outputs": [],
   "source": [
    "dataset = tf.data.Dataset.zip((dataset_images, dataset_labels))"
   ]
  },
  {
   "cell_type": "code",
   "execution_count": 13,
   "id": "6bf66fd4",
   "metadata": {},
   "outputs": [
    {
     "data": {
      "text/plain": [
       "<ZipDataset shapes: ((28, 28), ()), types: (tf.float64, tf.uint8)>"
      ]
     },
     "execution_count": 13,
     "metadata": {},
     "output_type": "execute_result"
    }
   ],
   "source": [
    "dataset"
   ]
  },
  {
   "cell_type": "code",
   "execution_count": 14,
   "id": "bcda4a71",
   "metadata": {},
   "outputs": [],
   "source": [
    "batch_size = 256\n",
    "dataset = dataset.shuffle(train_images.shape[0]).repeat().batch(batch_size)"
   ]
  },
  {
   "cell_type": "markdown",
   "id": "c00887e5",
   "metadata": {},
   "source": [
    "# L1, L2 test"
   ]
  },
  {
   "cell_type": "code",
   "execution_count": 15,
   "id": "ade78cc8",
   "metadata": {},
   "outputs": [],
   "source": [
    "model_dense_0 = tf.keras.Sequential([\n",
    "    tf.keras.layers.Flatten(input_shape=(28, 28)),\n",
    "    tf.keras.layers.Dense(1024, activation='relu'),\n",
    "    tf.keras.layers.Dense(512, activation='relu'),\n",
    "    tf.keras.layers.Dense(256, activation='relu'),\n",
    "    tf.keras.layers.Dense(128, activation='relu'),\n",
    "    tf.keras.layers.Dense(64, activation='relu'),\n",
    "    tf.keras.layers.Dense(32, activation='relu'),\n",
    "    tf.keras.layers.Dense(10, activation='softmax')\n",
    "])"
   ]
  },
  {
   "cell_type": "code",
   "execution_count": 16,
   "id": "d6c76f7f",
   "metadata": {},
   "outputs": [],
   "source": [
    "model_dense_0.compile(optimizer='adam',\n",
    "              loss='sparse_categorical_crossentropy',\n",
    "              metrics=['accuracy'])"
   ]
  },
  {
   "cell_type": "code",
   "execution_count": 17,
   "id": "c6644ab1",
   "metadata": {},
   "outputs": [],
   "source": [
    "steps_per_epoch = train_images.shape[0]/batch_size"
   ]
  },
  {
   "cell_type": "code",
   "execution_count": 18,
   "id": "e4337431",
   "metadata": {},
   "outputs": [
    {
     "name": "stdout",
     "output_type": "stream",
     "text": [
      "Epoch 1/20\n",
      "235/234 [==============================] - 3s 13ms/step - loss: 0.2924 - accuracy: 0.9142 - val_loss: 18.1702 - val_accuracy: 0.9633\n",
      "Epoch 2/20\n",
      "235/234 [==============================] - 3s 13ms/step - loss: 0.0941 - accuracy: 0.9716 - val_loss: 14.2650 - val_accuracy: 0.9735\n",
      "Epoch 3/20\n",
      "235/234 [==============================] - 3s 14ms/step - loss: 0.0587 - accuracy: 0.9820 - val_loss: 11.6956 - val_accuracy: 0.9774\n",
      "Epoch 4/20\n",
      "235/234 [==============================] - 3s 14ms/step - loss: 0.0427 - accuracy: 0.9863 - val_loss: 15.4242 - val_accuracy: 0.9776\n",
      "Epoch 5/20\n",
      "235/234 [==============================] - 3s 14ms/step - loss: 0.0335 - accuracy: 0.9899 - val_loss: 16.1145 - val_accuracy: 0.9785\n",
      "Epoch 6/20\n",
      "235/234 [==============================] - 3s 14ms/step - loss: 0.0267 - accuracy: 0.9913 - val_loss: 14.8053 - val_accuracy: 0.9796\n",
      "Epoch 7/20\n",
      "235/234 [==============================] - 3s 15ms/step - loss: 0.0232 - accuracy: 0.9924 - val_loss: 17.6445 - val_accuracy: 0.9805\n",
      "Epoch 8/20\n",
      "235/234 [==============================] - 4s 15ms/step - loss: 0.0226 - accuracy: 0.9929 - val_loss: 15.6530 - val_accuracy: 0.9799\n",
      "Epoch 9/20\n",
      "235/234 [==============================] - 3s 15ms/step - loss: 0.0215 - accuracy: 0.9931 - val_loss: 15.4894 - val_accuracy: 0.9793\n",
      "Epoch 10/20\n",
      "235/234 [==============================] - 3s 15ms/step - loss: 0.0169 - accuracy: 0.9947 - val_loss: 15.5258 - val_accuracy: 0.9806\n",
      "Epoch 11/20\n",
      "235/234 [==============================] - 4s 15ms/step - loss: 0.0163 - accuracy: 0.9952 - val_loss: 18.9957 - val_accuracy: 0.9776\n",
      "Epoch 12/20\n",
      "235/234 [==============================] - 3s 14ms/step - loss: 0.0150 - accuracy: 0.9955 - val_loss: 16.1942 - val_accuracy: 0.9809\n",
      "Epoch 13/20\n",
      "235/234 [==============================] - 3s 15ms/step - loss: 0.0124 - accuracy: 0.9959 - val_loss: 19.6102 - val_accuracy: 0.9804\n",
      "Epoch 14/20\n",
      "235/234 [==============================] - 3s 15ms/step - loss: 0.0119 - accuracy: 0.9962 - val_loss: 18.0260 - val_accuracy: 0.9816\n",
      "Epoch 15/20\n",
      "235/234 [==============================] - 3s 14ms/step - loss: 0.0123 - accuracy: 0.9963 - val_loss: 18.2411 - val_accuracy: 0.9822\n",
      "Epoch 16/20\n",
      "235/234 [==============================] - 3s 14ms/step - loss: 0.0103 - accuracy: 0.9967 - val_loss: 19.4513 - val_accuracy: 0.9823\n",
      "Epoch 17/20\n",
      "235/234 [==============================] - 3s 15ms/step - loss: 0.0111 - accuracy: 0.9967 - val_loss: 18.6078 - val_accuracy: 0.9818\n",
      "Epoch 18/20\n",
      "235/234 [==============================] - 4s 15ms/step - loss: 0.0104 - accuracy: 0.9970 - val_loss: 15.3783 - val_accuracy: 0.9839\n",
      "Epoch 19/20\n",
      "235/234 [==============================] - 3s 14ms/step - loss: 0.0100 - accuracy: 0.9970 - val_loss: 18.5387 - val_accuracy: 0.9822\n",
      "Epoch 20/20\n",
      "235/234 [==============================] - 3s 14ms/step - loss: 0.0089 - accuracy: 0.9974 - val_loss: 19.9499 - val_accuracy: 0.9811\n"
     ]
    }
   ],
   "source": [
    "history_dense_0 = model_dense_0.fit(dataset, \n",
    "                                    epochs=20, \n",
    "                                    steps_per_epoch=steps_per_epoch, \n",
    "                                   validation_data=(testX, testy))"
   ]
  },
  {
   "cell_type": "code",
   "execution_count": 19,
   "id": "ee46e192",
   "metadata": {},
   "outputs": [
    {
     "name": "stdout",
     "output_type": "stream",
     "text": [
      "dict_keys(['loss', 'accuracy', 'val_loss', 'val_accuracy'])\n"
     ]
    }
   ],
   "source": [
    "print(history_dense_0.history.keys())"
   ]
  },
  {
   "cell_type": "code",
   "execution_count": 23,
   "id": "b3ec16a5",
   "metadata": {},
   "outputs": [],
   "source": [
    "model_dense_1 = tf.keras.Sequential([\n",
    "    tf.keras.layers.Flatten(input_shape=(28, 28)),\n",
    "    tf.keras.layers.Dense(1024, activation='relu', kernel_regularizer =tf.keras.regularizers.l1(0.01)),\n",
    "    tf.keras.layers.Dense(512, activation='relu', kernel_regularizer =tf.keras.regularizers.l1(0.01)),\n",
    "    tf.keras.layers.Dense(256, activation='relu', kernel_regularizer =tf.keras.regularizers.l1(0.01)),\n",
    "    tf.keras.layers.Dense(128, activation='relu', kernel_regularizer =tf.keras.regularizers.l1(0.01)),\n",
    "    tf.keras.layers.Dense(64, activation='relu', kernel_regularizer =tf.keras.regularizers.l1(0.01)),\n",
    "    tf.keras.layers.Dense(32, activation='relu', kernel_regularizer =tf.keras.regularizers.l1(0.01)),\n",
    "    tf.keras.layers.Dense(10, activation='softmax')\n",
    "])"
   ]
  },
  {
   "cell_type": "code",
   "execution_count": 24,
   "id": "6400719d",
   "metadata": {},
   "outputs": [],
   "source": [
    "model_dense_1.compile(optimizer='adam',\n",
    "              loss='sparse_categorical_crossentropy',\n",
    "              metrics=['accuracy'])\n",
    "steps_per_epoch = train_images.shape[0]/batch_size"
   ]
  },
  {
   "cell_type": "code",
   "execution_count": 25,
   "id": "6fcaf300",
   "metadata": {},
   "outputs": [
    {
     "name": "stdout",
     "output_type": "stream",
     "text": [
      "Epoch 1/20\n",
      "235/234 [==============================] - 6s 25ms/step - loss: 54.1849 - accuracy: 0.1201 - val_loss: 4.1709 - val_accuracy: 0.1135\n",
      "Epoch 2/20\n",
      "235/234 [==============================] - 5s 23ms/step - loss: 4.1519 - accuracy: 0.1123 - val_loss: 4.1482 - val_accuracy: 0.1135\n",
      "Epoch 3/20\n",
      "235/234 [==============================] - 6s 24ms/step - loss: 4.1512 - accuracy: 0.1125 - val_loss: 4.1341 - val_accuracy: 0.1135\n",
      "Epoch 4/20\n",
      "235/234 [==============================] - 6s 26ms/step - loss: 4.1512 - accuracy: 0.1122 - val_loss: 4.1483 - val_accuracy: 0.1135\n",
      "Epoch 5/20\n",
      "235/234 [==============================] - 6s 26ms/step - loss: 4.1510 - accuracy: 0.1124 - val_loss: 4.1479 - val_accuracy: 0.1135\n",
      "Epoch 6/20\n",
      "235/234 [==============================] - 6s 27ms/step - loss: 4.1509 - accuracy: 0.1124 - val_loss: 4.1651 - val_accuracy: 0.1135\n",
      "Epoch 7/20\n",
      "235/234 [==============================] - 6s 26ms/step - loss: 4.1511 - accuracy: 0.1127 - val_loss: 4.1550 - val_accuracy: 0.1135\n",
      "Epoch 8/20\n",
      "235/234 [==============================] - 6s 26ms/step - loss: 4.1512 - accuracy: 0.1118 - val_loss: 4.1443 - val_accuracy: 0.1135\n",
      "Epoch 9/20\n",
      "235/234 [==============================] - 6s 27ms/step - loss: 4.1511 - accuracy: 0.1128 - val_loss: 4.1516 - val_accuracy: 0.1135\n",
      "Epoch 10/20\n",
      "235/234 [==============================] - 6s 27ms/step - loss: 4.1510 - accuracy: 0.1120 - val_loss: 4.1512 - val_accuracy: 0.1135\n",
      "Epoch 11/20\n",
      "235/234 [==============================] - 6s 26ms/step - loss: 4.1509 - accuracy: 0.1123 - val_loss: 4.1529 - val_accuracy: 0.1135\n",
      "Epoch 12/20\n",
      "235/234 [==============================] - 6s 27ms/step - loss: 4.1510 - accuracy: 0.1124 - val_loss: 4.1479 - val_accuracy: 0.1135\n",
      "Epoch 13/20\n",
      "235/234 [==============================] - 6s 27ms/step - loss: 4.1510 - accuracy: 0.1122 - val_loss: 4.1615 - val_accuracy: 0.1135\n",
      "Epoch 14/20\n",
      "235/234 [==============================] - 6s 27ms/step - loss: 4.1510 - accuracy: 0.1128 - val_loss: 4.1491 - val_accuracy: 0.1135\n",
      "Epoch 15/20\n",
      "235/234 [==============================] - 7s 28ms/step - loss: 4.1510 - accuracy: 0.1125 - val_loss: 4.1367 - val_accuracy: 0.1135\n",
      "Epoch 16/20\n",
      "235/234 [==============================] - 7s 28ms/step - loss: 4.1509 - accuracy: 0.1123 - val_loss: 4.1527 - val_accuracy: 0.1135\n",
      "Epoch 17/20\n",
      "235/234 [==============================] - 6s 27ms/step - loss: 4.1510 - accuracy: 0.1116 - val_loss: 4.1455 - val_accuracy: 0.1135\n",
      "Epoch 18/20\n",
      "235/234 [==============================] - 6s 27ms/step - loss: 4.1505 - accuracy: 0.1132 - val_loss: 4.1641 - val_accuracy: 0.1135\n",
      "Epoch 19/20\n",
      "235/234 [==============================] - 6s 27ms/step - loss: 4.1513 - accuracy: 0.1120 - val_loss: 4.1432 - val_accuracy: 0.1135\n",
      "Epoch 20/20\n",
      "235/234 [==============================] - 6s 26ms/step - loss: 4.1508 - accuracy: 0.1124 - val_loss: 4.1371 - val_accuracy: 0.1135\n"
     ]
    }
   ],
   "source": [
    "history_dense_1 = model_dense_1.fit(dataset, epochs=20, \n",
    "                                    steps_per_epoch=steps_per_epoch, \n",
    "                                    validation_data=(testX, testy))"
   ]
  },
  {
   "cell_type": "code",
   "execution_count": 26,
   "id": "df9c4b33",
   "metadata": {},
   "outputs": [
    {
     "name": "stdout",
     "output_type": "stream",
     "text": [
      "dict_keys(['loss', 'accuracy', 'val_loss', 'val_accuracy'])\n"
     ]
    }
   ],
   "source": [
    "print(history_dense_1.history.keys())"
   ]
  },
  {
   "cell_type": "code",
   "execution_count": 29,
   "id": "0949938b",
   "metadata": {},
   "outputs": [],
   "source": [
    "model_dense_2 = tf.keras.Sequential([\n",
    "    tf.keras.layers.Flatten(input_shape=(28, 28)),\n",
    "    tf.keras.layers.Dense(1024, activation='relu', kernel_regularizer =tf.keras.regularizers.l2(0.01)),\n",
    "    tf.keras.layers.Dense(512, activation='relu', kernel_regularizer =tf.keras.regularizers.l2(0.01)),\n",
    "    tf.keras.layers.Dense(256, activation='relu', kernel_regularizer =tf.keras.regularizers.l2(0.01)),\n",
    "    tf.keras.layers.Dense(128, activation='relu', kernel_regularizer =tf.keras.regularizers.l2(0.01)),\n",
    "    tf.keras.layers.Dense(64, activation='relu', kernel_regularizer =tf.keras.regularizers.l2(0.01)),\n",
    "    tf.keras.layers.Dense(32, activation='relu', kernel_regularizer =tf.keras.regularizers.l2(0.01)),\n",
    "    tf.keras.layers.Dense(10, activation='softmax')\n",
    "])"
   ]
  },
  {
   "cell_type": "code",
   "execution_count": 30,
   "id": "b6acba75",
   "metadata": {},
   "outputs": [],
   "source": [
    "model_dense_2.compile(optimizer='adam',\n",
    "              loss='sparse_categorical_crossentropy',\n",
    "              metrics=['accuracy'])\n",
    "steps_per_epoch = train_images.shape[0]/batch_size"
   ]
  },
  {
   "cell_type": "code",
   "execution_count": 31,
   "id": "188be3de",
   "metadata": {},
   "outputs": [
    {
     "name": "stdout",
     "output_type": "stream",
     "text": [
      "Epoch 1/20\n",
      "235/234 [==============================] - 7s 31ms/step - loss: 4.0879 - accuracy: 0.8355 - val_loss: 32.9765 - val_accuracy: 0.9080\n",
      "Epoch 2/20\n",
      "235/234 [==============================] - 7s 30ms/step - loss: 1.2146 - accuracy: 0.9168 - val_loss: 29.3475 - val_accuracy: 0.9114\n",
      "Epoch 3/20\n",
      "235/234 [==============================] - 7s 28ms/step - loss: 0.9813 - accuracy: 0.9251 - val_loss: 20.9265 - val_accuracy: 0.9347\n",
      "Epoch 4/20\n",
      "235/234 [==============================] - 7s 29ms/step - loss: 0.8549 - accuracy: 0.9350 - val_loss: 31.4913 - val_accuracy: 0.9088\n",
      "Epoch 5/20\n",
      "235/234 [==============================] - 7s 30ms/step - loss: 0.7911 - accuracy: 0.9387 - val_loss: 18.3007 - val_accuracy: 0.9428\n",
      "Epoch 6/20\n",
      "235/234 [==============================] - 7s 30ms/step - loss: 0.7462 - accuracy: 0.9405 - val_loss: 18.9563 - val_accuracy: 0.9421\n",
      "Epoch 7/20\n",
      "235/234 [==============================] - 7s 30ms/step - loss: 0.7110 - accuracy: 0.9443 - val_loss: 17.7001 - val_accuracy: 0.9340\n",
      "Epoch 8/20\n",
      "235/234 [==============================] - 7s 32ms/step - loss: 0.6902 - accuracy: 0.9454 - val_loss: 18.4664 - val_accuracy: 0.9363\n",
      "Epoch 9/20\n",
      "235/234 [==============================] - 8s 32ms/step - loss: 0.6721 - accuracy: 0.9476 - val_loss: 14.4657 - val_accuracy: 0.9439\n",
      "Epoch 10/20\n",
      "235/234 [==============================] - 8s 32ms/step - loss: 0.6430 - accuracy: 0.9516 - val_loss: 15.0601 - val_accuracy: 0.9454\n",
      "Epoch 11/20\n",
      "235/234 [==============================] - 8s 33ms/step - loss: 0.6390 - accuracy: 0.9491 - val_loss: 15.5981 - val_accuracy: 0.9329\n",
      "Epoch 12/20\n",
      "235/234 [==============================] - 8s 33ms/step - loss: 0.6243 - accuracy: 0.9512 - val_loss: 17.5548 - val_accuracy: 0.9304\n",
      "Epoch 13/20\n",
      "235/234 [==============================] - 8s 33ms/step - loss: 0.6143 - accuracy: 0.9507 - val_loss: 14.4446 - val_accuracy: 0.9386\n",
      "Epoch 14/20\n",
      "235/234 [==============================] - 8s 33ms/step - loss: 0.6011 - accuracy: 0.9541 - val_loss: 11.9525 - val_accuracy: 0.9409\n",
      "Epoch 15/20\n",
      "235/234 [==============================] - 8s 33ms/step - loss: 0.5902 - accuracy: 0.9544 - val_loss: 13.4432 - val_accuracy: 0.9321\n",
      "Epoch 16/20\n",
      "235/234 [==============================] - 8s 33ms/step - loss: 0.5871 - accuracy: 0.9524 - val_loss: 10.8239 - val_accuracy: 0.9385\n",
      "Epoch 17/20\n",
      "235/234 [==============================] - 8s 34ms/step - loss: 0.5713 - accuracy: 0.9551 - val_loss: 12.7902 - val_accuracy: 0.9198\n",
      "Epoch 18/20\n",
      "235/234 [==============================] - 8s 34ms/step - loss: 0.5668 - accuracy: 0.9549 - val_loss: 7.9354 - val_accuracy: 0.9295\n",
      "Epoch 19/20\n",
      "235/234 [==============================] - 8s 33ms/step - loss: 0.5592 - accuracy: 0.9550 - val_loss: 8.5943 - val_accuracy: 0.9249\n",
      "Epoch 20/20\n",
      "235/234 [==============================] - 8s 33ms/step - loss: 0.5451 - accuracy: 0.9565 - val_loss: 10.3817 - val_accuracy: 0.9093\n"
     ]
    }
   ],
   "source": [
    "history_dense_2 = model_dense_2.fit(dataset, epochs=20, \n",
    "                                    steps_per_epoch=steps_per_epoch, \n",
    "                                    validation_data=(testX, testy))"
   ]
  },
  {
   "cell_type": "code",
   "execution_count": 32,
   "id": "f9224fa9",
   "metadata": {},
   "outputs": [
    {
     "name": "stdout",
     "output_type": "stream",
     "text": [
      "dict_keys(['loss', 'accuracy', 'val_loss', 'val_accuracy'])\n"
     ]
    }
   ],
   "source": [
    "print(history_dense_2.history.keys())"
   ]
  },
  {
   "cell_type": "code",
   "execution_count": 36,
   "id": "a225fc75",
   "metadata": {},
   "outputs": [
    {
     "data": {
      "image/png": "[encoded data removed]",
      "text/plain": [
       "<Figure size 640x480 with 1 Axes>"
      ]
     },
     "metadata": {},
     "output_type": "display_data"
    }
   ],
   "source": [
    "import matplotlib.pyplot as plt\n",
    "plt.plot(history_dense_0.history['loss'])\n",
    "plt.plot(history_dense_1.history['loss'])\n",
    "plt.plot(history_dense_2.history['loss'])\n",
    "plt.title('MLP: model accuracy with different regularization')\n",
    "plt.ylabel('accuracy')\n",
    "plt.xlabel('epoch')\n",
    "plt.legend(['L2', 'L1', 'No regularization'], loc='upper left')\n",
    "plt.show()"
   ]
  },
  {
   "attachments": {
    "image-2.png": {
     "image/png": "[encoded data removed]"
    }
   },
   "cell_type": "markdown",
   "id": "dbd2d1fd",
   "metadata": {},
   "source": [
    "![image-2.png](attachment:image-2.png)"
   ]
  },
  {
   "cell_type": "markdown",
   "id": "2b871158",
   "metadata": {},
   "source": [
    "# Dropout test"
   ]
  },
  {
   "cell_type": "code",
   "execution_count": 37,
   "id": "b6a93406",
   "metadata": {},
   "outputs": [],
   "source": [
    "model_dense_2_drop = tf.keras.Sequential([\n",
    "    tf.keras.layers.Flatten(input_shape=(28, 28)),\n",
    "    tf.keras.layers.Dense(1024, activation='relu', kernel_regularizer =tf.keras.regularizers.l2(0.01)),\n",
    "    tf.keras.layers.Dense(512, activation='relu', kernel_regularizer =tf.keras.regularizers.l2(0.01)),\n",
    "    tf.keras.layers.Dense(256, activation='relu', kernel_regularizer =tf.keras.regularizers.l2(0.01)),\n",
    "    tf.keras.layers.Dense(128, activation='relu', kernel_regularizer =tf.keras.regularizers.l2(0.01)),\n",
    "    tf.keras.layers.Dense(64, activation='relu', kernel_regularizer =tf.keras.regularizers.l2(0.01)),\n",
    "    tf.keras.layers.Dense(32, activation='relu', kernel_regularizer =tf.keras.regularizers.l2(0.01)),\n",
    "    tf.keras.layers.Dropout(0.1,noise_shape=None,seed=None),\n",
    "    tf.keras.layers.Dense(10, activation='softmax')\n",
    "])"
   ]
  },
  {
   "cell_type": "code",
   "execution_count": 38,
   "id": "9a8b887c",
   "metadata": {},
   "outputs": [],
   "source": [
    "model_dense_2_drop.compile(optimizer='adam',\n",
    "              loss='sparse_categorical_crossentropy',\n",
    "              metrics=['accuracy'])\n",
    "steps_per_epoch = train_images.shape[0]/batch_size"
   ]
  },
  {
   "cell_type": "code",
   "execution_count": 41,
   "id": "850143e2",
   "metadata": {},
   "outputs": [
    {
     "name": "stdout",
     "output_type": "stream",
     "text": [
      "Epoch 1/20\n",
      "235/234 [==============================] - 9s 39ms/step - loss: 0.5591 - accuracy: 0.9527 - val_loss: 6.1966 - val_accuracy: 0.9316\n",
      "Epoch 2/20\n",
      "235/234 [==============================] - 9s 39ms/step - loss: 0.5521 - accuracy: 0.9533 - val_loss: 8.2924 - val_accuracy: 0.8961\n",
      "Epoch 3/20\n",
      "235/234 [==============================] - 9s 39ms/step - loss: 0.5494 - accuracy: 0.9525 - val_loss: 6.3756 - val_accuracy: 0.8989\n",
      "Epoch 4/20\n",
      "235/234 [==============================] - 9s 39ms/step - loss: 0.5388 - accuracy: 0.9541 - val_loss: 7.7922 - val_accuracy: 0.8746\n",
      "Epoch 5/20\n",
      "235/234 [==============================] - 9s 39ms/step - loss: 0.5396 - accuracy: 0.9519 - val_loss: 7.9160 - val_accuracy: 0.8573\n",
      "Epoch 6/20\n",
      "235/234 [==============================] - 9s 39ms/step - loss: 0.5318 - accuracy: 0.9537 - val_loss: 7.8396 - val_accuracy: 0.8183\n",
      "Epoch 7/20\n",
      "235/234 [==============================] - 9s 38ms/step - loss: 0.5271 - accuracy: 0.9540 - val_loss: 6.3886 - val_accuracy: 0.8367\n",
      "Epoch 8/20\n",
      "235/234 [==============================] - 9s 38ms/step - loss: 0.5185 - accuracy: 0.9554 - val_loss: 8.4440 - val_accuracy: 0.7624\n",
      "Epoch 9/20\n",
      "235/234 [==============================] - 9s 38ms/step - loss: 0.5158 - accuracy: 0.9551 - val_loss: 10.2341 - val_accuracy: 0.7219\n",
      "Epoch 10/20\n",
      "235/234 [==============================] - 9s 38ms/step - loss: 0.5096 - accuracy: 0.9562 - val_loss: 8.8363 - val_accuracy: 0.7341\n",
      "Epoch 11/20\n",
      "235/234 [==============================] - 9s 37ms/step - loss: 0.5066 - accuracy: 0.9561 - val_loss: 9.2356 - val_accuracy: 0.7278\n",
      "Epoch 12/20\n",
      "235/234 [==============================] - 9s 37ms/step - loss: 0.5068 - accuracy: 0.9547 - val_loss: 12.2099 - val_accuracy: 0.6566\n",
      "Epoch 13/20\n",
      "235/234 [==============================] - 9s 38ms/step - loss: 0.4970 - accuracy: 0.9572 - val_loss: 8.4411 - val_accuracy: 0.7057\n",
      "Epoch 14/20\n",
      "235/234 [==============================] - 9s 38ms/step - loss: 0.4967 - accuracy: 0.9567 - val_loss: 9.6090 - val_accuracy: 0.6923\n",
      "Epoch 15/20\n",
      "235/234 [==============================] - 9s 39ms/step - loss: 0.4978 - accuracy: 0.9565 - val_loss: 11.2243 - val_accuracy: 0.6029\n",
      "Epoch 16/20\n",
      "235/234 [==============================] - 9s 38ms/step - loss: 0.4897 - accuracy: 0.9567 - val_loss: 9.4604 - val_accuracy: 0.6812\n",
      "Epoch 17/20\n",
      "235/234 [==============================] - 9s 38ms/step - loss: 0.4854 - accuracy: 0.9579 - val_loss: 12.3743 - val_accuracy: 0.6136\n",
      "Epoch 18/20\n",
      "235/234 [==============================] - 9s 38ms/step - loss: 0.4831 - accuracy: 0.9581 - val_loss: 12.1924 - val_accuracy: 0.5883\n",
      "Epoch 19/20\n",
      "235/234 [==============================] - 9s 38ms/step - loss: 0.4810 - accuracy: 0.9578 - val_loss: 11.8882 - val_accuracy: 0.5626\n",
      "Epoch 20/20\n",
      "235/234 [==============================] - 9s 38ms/step - loss: 0.4767 - accuracy: 0.9582 - val_loss: 10.4273 - val_accuracy: 0.6018\n"
     ]
    }
   ],
   "source": [
    "history_dense_2_drop = model_dense_2_drop.fit(dataset, epochs=20,\n",
    "                                              steps_per_epoch=steps_per_epoch,\n",
    "                                              validation_data=(testX, testy))"
   ]
  },
  {
   "cell_type": "code",
   "execution_count": 42,
   "id": "fcde94e1",
   "metadata": {},
   "outputs": [
    {
     "data": {
      "image/png": "[encoded data removed]",
      "text/plain": [
       "<Figure size 640x480 with 1 Axes>"
      ]
     },
     "metadata": {},
     "output_type": "display_data"
    }
   ],
   "source": [
    "import matplotlib.pyplot as plt\n",
    "plt.plot(history_dense_2_drop.history['val_accuracy'])\n",
    "plt.plot(history_dense_2.history['val_accuracy'])\n",
    "plt.title('MLP: model accuracy with different regularization')\n",
    "plt.ylabel('accuracy')\n",
    "plt.xlabel('epoch')\n",
    "plt.legend(['dropout', 'No dropout'], loc='upper left')\n",
    "plt.show()"
   ]
  },
  {
   "cell_type": "code",
   "execution_count": null,
   "id": "b6073a71",
   "metadata": {},
   "outputs": [],
   "source": []
  },
  {
   "cell_type": "code",
   "execution_count": null,
   "id": "bc45014b",
   "metadata": {},
   "outputs": [],
   "source": []
  }
 ],
 "metadata": {
  "kernelspec": {
   "display_name": "Python 3 (ipykernel)",
   "language": "python",
   "name": "python3"
  },
  "language_info": {
   "codemirror_mode": {
    "name": "ipython",
    "version": 3
   },
   "file_extension": ".py",
   "mimetype": "text/x-python",
   "name": "python",
   "nbconvert_exporter": "python",
   "pygments_lexer": "ipython3",
   "version": "3.7.0"
  }
 },
 "nbformat": 4,
 "nbformat_minor": 5
}
