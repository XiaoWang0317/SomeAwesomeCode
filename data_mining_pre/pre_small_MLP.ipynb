{
 "cells": [
  {
   "cell_type": "code",
   "execution_count": 1,
   "id": "5221c12e",
   "metadata": {},
   "outputs": [],
   "source": [
    "import tensorflow as tf\n",
    "import matplotlib.pyplot as plt\n",
    "%matplotlib inline"
   ]
  },
  {
   "cell_type": "code",
   "execution_count": 2,
   "id": "e95f9d88",
   "metadata": {},
   "outputs": [],
   "source": [
    "(trainX, trainy), (testX, testy) = tf.keras.datasets.mnist.load_data()"
   ]
  },
  {
   "cell_type": "code",
   "execution_count": 3,
   "id": "34aa5020",
   "metadata": {},
   "outputs": [],
   "source": [
    "train_images = trainX/255\n",
    "test_images = testX/255"
   ]
  },
  {
   "cell_type": "code",
   "execution_count": 4,
   "id": "3d2a4c14",
   "metadata": {},
   "outputs": [],
   "source": [
    "dataset_images = tf.data.Dataset.from_tensor_slices(train_images)"
   ]
  },
  {
   "cell_type": "code",
   "execution_count": 5,
   "id": "e7c0b4df",
   "metadata": {},
   "outputs": [],
   "source": [
    "dataset_labels = tf.data.Dataset.from_tensor_slices(trainy)"
   ]
  },
  {
   "cell_type": "code",
   "execution_count": 6,
   "id": "88a6d785",
   "metadata": {},
   "outputs": [],
   "source": [
    "dataset = tf.data.Dataset.zip((dataset_images, dataset_labels))"
   ]
  },
  {
   "cell_type": "code",
   "execution_count": 7,
   "id": "624dc28f",
   "metadata": {},
   "outputs": [],
   "source": [
    "batch_size = 256\n",
    "dataset = dataset.shuffle(train_images.shape[0]).repeat().batch(batch_size)"
   ]
  },
  {
   "cell_type": "markdown",
   "id": "a0c82358",
   "metadata": {},
   "source": [
    "## L1, L2 test"
   ]
  },
  {
   "cell_type": "code",
   "execution_count": 8,
   "id": "239ef11f",
   "metadata": {},
   "outputs": [],
   "source": [
    "model_dense_0 = tf.keras.Sequential([\n",
    "    tf.keras.layers.Flatten(input_shape=(28, 28)),\n",
    "    tf.keras.layers.Dense(32, activation='relu'),\n",
    "    tf.keras.layers.Dense(10, activation='softmax')\n",
    "])"
   ]
  },
  {
   "cell_type": "code",
   "execution_count": 9,
   "id": "d53637ee",
   "metadata": {},
   "outputs": [],
   "source": [
    "model_dense_0.compile(optimizer='adam',\n",
    "              loss='sparse_categorical_crossentropy',\n",
    "              metrics=['accuracy'])\n",
    "steps_per_epoch = train_images.shape[0]/batch_size"
   ]
  },
  {
   "cell_type": "code",
   "execution_count": 10,
   "id": "a11635c8",
   "metadata": {},
   "outputs": [
    {
     "name": "stdout",
     "output_type": "stream",
     "text": [
      "Epoch 1/20\n",
      "235/234 [==============================] - 1s 3ms/step - loss: 0.6681 - accuracy: 0.8200 - val_loss: 35.5479 - val_accuracy: 0.9114\n",
      "Epoch 2/20\n",
      "235/234 [==============================] - 1s 2ms/step - loss: 0.2916 - accuracy: 0.9182 - val_loss: 34.4962 - val_accuracy: 0.9249\n",
      "Epoch 3/20\n",
      "235/234 [==============================] - 1s 2ms/step - loss: 0.2472 - accuracy: 0.9297 - val_loss: 32.8079 - val_accuracy: 0.9314\n",
      "Epoch 4/20\n",
      "235/234 [==============================] - 1s 2ms/step - loss: 0.2179 - accuracy: 0.9378 - val_loss: 30.0364 - val_accuracy: 0.9360\n",
      "Epoch 5/20\n",
      "235/234 [==============================] - 1s 2ms/step - loss: 0.1971 - accuracy: 0.9440 - val_loss: 29.6751 - val_accuracy: 0.9376\n",
      "Epoch 6/20\n",
      "235/234 [==============================] - 1s 2ms/step - loss: 0.1825 - accuracy: 0.9476 - val_loss: 30.4462 - val_accuracy: 0.9368\n",
      "Epoch 7/20\n",
      "235/234 [==============================] - 1s 2ms/step - loss: 0.1673 - accuracy: 0.9522 - val_loss: 27.4536 - val_accuracy: 0.9437\n",
      "Epoch 8/20\n",
      "235/234 [==============================] - 1s 2ms/step - loss: 0.1551 - accuracy: 0.9554 - val_loss: 27.3354 - val_accuracy: 0.9438\n",
      "Epoch 9/20\n",
      "235/234 [==============================] - 1s 2ms/step - loss: 0.1461 - accuracy: 0.9577 - val_loss: 26.1817 - val_accuracy: 0.9461\n",
      "Epoch 10/20\n",
      "235/234 [==============================] - 1s 2ms/step - loss: 0.1363 - accuracy: 0.9605 - val_loss: 27.1269 - val_accuracy: 0.9453\n",
      "Epoch 11/20\n",
      "235/234 [==============================] - 1s 2ms/step - loss: 0.1284 - accuracy: 0.9630 - val_loss: 25.3965 - val_accuracy: 0.9503\n",
      "Epoch 12/20\n",
      "235/234 [==============================] - 1s 2ms/step - loss: 0.1229 - accuracy: 0.9639 - val_loss: 26.2453 - val_accuracy: 0.9482\n",
      "Epoch 13/20\n",
      "235/234 [==============================] - 1s 2ms/step - loss: 0.1152 - accuracy: 0.9667 - val_loss: 23.8104 - val_accuracy: 0.9538\n",
      "Epoch 14/20\n",
      "235/234 [==============================] - 1s 2ms/step - loss: 0.1100 - accuracy: 0.9681 - val_loss: 24.4363 - val_accuracy: 0.9554\n",
      "Epoch 15/20\n",
      "235/234 [==============================] - 1s 2ms/step - loss: 0.1064 - accuracy: 0.9686 - val_loss: 23.9401 - val_accuracy: 0.9542\n",
      "Epoch 16/20\n",
      "235/234 [==============================] - 1s 2ms/step - loss: 0.0995 - accuracy: 0.9706 - val_loss: 23.7114 - val_accuracy: 0.9554\n",
      "Epoch 17/20\n",
      "235/234 [==============================] - 1s 2ms/step - loss: 0.0941 - accuracy: 0.9728 - val_loss: 21.9140 - val_accuracy: 0.9615\n",
      "Epoch 18/20\n",
      "235/234 [==============================] - 1s 2ms/step - loss: 0.0909 - accuracy: 0.9729 - val_loss: 25.4437 - val_accuracy: 0.9530\n",
      "Epoch 19/20\n",
      "235/234 [==============================] - 1s 2ms/step - loss: 0.0852 - accuracy: 0.9750 - val_loss: 25.0872 - val_accuracy: 0.9567\n",
      "Epoch 20/20\n",
      "235/234 [==============================] - 1s 2ms/step - loss: 0.0837 - accuracy: 0.9752 - val_loss: 23.4064 - val_accuracy: 0.9580\n"
     ]
    }
   ],
   "source": [
    "history_dense_0 = model_dense_0.fit(dataset, epochs=20, steps_per_epoch=steps_per_epoch, validation_data=(testX, testy))"
   ]
  },
  {
   "cell_type": "code",
   "execution_count": 11,
   "id": "5c9c8323",
   "metadata": {},
   "outputs": [],
   "source": [
    "model_dense_1 = tf.keras.Sequential([\n",
    "    tf.keras.layers.Flatten(input_shape=(28, 28)),\n",
    "    tf.keras.layers.Dense(32, activation='relu', kernel_regularizer =tf.keras.regularizers.l1(l=0.01)),\n",
    "    tf.keras.layers.Dense(10, activation='softmax')\n",
    "])"
   ]
  },
  {
   "cell_type": "code",
   "execution_count": 12,
   "id": "9a1d96d8",
   "metadata": {},
   "outputs": [],
   "source": [
    "model_dense_1.compile(optimizer='adam',\n",
    "              loss='sparse_categorical_crossentropy',\n",
    "              metrics=['accuracy'])\n",
    "steps_per_epoch = train_images.shape[0]/batch_size"
   ]
  },
  {
   "cell_type": "code",
   "execution_count": 13,
   "id": "84f92ada",
   "metadata": {},
   "outputs": [
    {
     "name": "stdout",
     "output_type": "stream",
     "text": [
      "Epoch 1/20\n",
      "235/234 [==============================] - 1s 3ms/step - loss: 3.1959 - accuracy: 0.7234 - val_loss: 37.0002 - val_accuracy: 0.8019\n",
      "Epoch 2/20\n",
      "235/234 [==============================] - 1s 2ms/step - loss: 1.3225 - accuracy: 0.8294 - val_loss: 43.6966 - val_accuracy: 0.8108\n",
      "Epoch 3/20\n",
      "235/234 [==============================] - 1s 2ms/step - loss: 1.1566 - accuracy: 0.8411 - val_loss: 55.2925 - val_accuracy: 0.7904\n",
      "Epoch 4/20\n",
      "235/234 [==============================] - 1s 2ms/step - loss: 1.0628 - accuracy: 0.8488 - val_loss: 62.8865 - val_accuracy: 0.7811\n",
      "Epoch 5/20\n",
      "235/234 [==============================] - 1s 3ms/step - loss: 1.0030 - accuracy: 0.8531 - val_loss: 79.2709 - val_accuracy: 0.7401\n",
      "Epoch 6/20\n",
      "235/234 [==============================] - 1s 2ms/step - loss: 0.9609 - accuracy: 0.8560 - val_loss: 73.5744 - val_accuracy: 0.7652\n",
      "Epoch 7/20\n",
      "235/234 [==============================] - 1s 3ms/step - loss: 0.9260 - accuracy: 0.8605 - val_loss: 80.8047 - val_accuracy: 0.7466\n",
      "Epoch 8/20\n",
      "235/234 [==============================] - 1s 2ms/step - loss: 0.8976 - accuracy: 0.8629 - val_loss: 88.2169 - val_accuracy: 0.7328\n",
      "Epoch 9/20\n",
      "235/234 [==============================] - 1s 2ms/step - loss: 0.8779 - accuracy: 0.8644 - val_loss: 78.5624 - val_accuracy: 0.7592\n",
      "Epoch 10/20\n",
      "235/234 [==============================] - 1s 2ms/step - loss: 0.8583 - accuracy: 0.8671 - val_loss: 84.5261 - val_accuracy: 0.7457\n",
      "Epoch 11/20\n",
      "235/234 [==============================] - 1s 2ms/step - loss: 0.8413 - accuracy: 0.8689 - val_loss: 83.5206 - val_accuracy: 0.7458\n",
      "Epoch 12/20\n",
      "235/234 [==============================] - 1s 2ms/step - loss: 0.8275 - accuracy: 0.8690 - val_loss: 96.1211 - val_accuracy: 0.7150\n",
      "Epoch 13/20\n",
      "235/234 [==============================] - 1s 3ms/step - loss: 0.8146 - accuracy: 0.8717 - val_loss: 92.4701 - val_accuracy: 0.7355\n",
      "Epoch 14/20\n",
      "235/234 [==============================] - 1s 3ms/step - loss: 0.8003 - accuracy: 0.8726 - val_loss: 86.9138 - val_accuracy: 0.7494\n",
      "Epoch 15/20\n",
      "235/234 [==============================] - 1s 2ms/step - loss: 0.7928 - accuracy: 0.8739 - val_loss: 80.6666 - val_accuracy: 0.7653\n",
      "Epoch 16/20\n",
      "235/234 [==============================] - 1s 3ms/step - loss: 0.7830 - accuracy: 0.8748 - val_loss: 75.6096 - val_accuracy: 0.7749\n",
      "Epoch 17/20\n",
      "235/234 [==============================] - 1s 2ms/step - loss: 0.7749 - accuracy: 0.8758 - val_loss: 100.2095 - val_accuracy: 0.7193\n",
      "Epoch 18/20\n",
      "235/234 [==============================] - 1s 3ms/step - loss: 0.7670 - accuracy: 0.8767 - val_loss: 88.4978 - val_accuracy: 0.7509\n",
      "Epoch 19/20\n",
      "235/234 [==============================] - 1s 2ms/step - loss: 0.7608 - accuracy: 0.8771 - val_loss: 91.8265 - val_accuracy: 0.7419\n",
      "Epoch 20/20\n",
      "235/234 [==============================] - 1s 3ms/step - loss: 0.7502 - accuracy: 0.8782 - val_loss: 91.1212 - val_accuracy: 0.7410\n"
     ]
    }
   ],
   "source": [
    "history_dense_1 = model_dense_1.fit(dataset, epochs=20, steps_per_epoch=steps_per_epoch, validation_data=(testX, testy))"
   ]
  },
  {
   "cell_type": "code",
   "execution_count": 14,
   "id": "b26e105f",
   "metadata": {},
   "outputs": [],
   "source": [
    "model_dense_2 = tf.keras.Sequential([\n",
    "    tf.keras.layers.Flatten(input_shape=(28, 28)),\n",
    "    tf.keras.layers.Dense(32, activation='relu', kernel_regularizer =tf.keras.regularizers.l2(l=0.01)),\n",
    "    tf.keras.layers.Dense(10, activation='softmax')\n",
    "])"
   ]
  },
  {
   "cell_type": "code",
   "execution_count": 15,
   "id": "2a108349",
   "metadata": {},
   "outputs": [],
   "source": [
    "model_dense_2.compile(optimizer='adam',\n",
    "              loss='sparse_categorical_crossentropy',\n",
    "              metrics=['accuracy'])\n",
    "steps_per_epoch = train_images.shape[0]/batch_size"
   ]
  },
  {
   "cell_type": "code",
   "execution_count": 16,
   "id": "33c6239c",
   "metadata": {},
   "outputs": [
    {
     "name": "stdout",
     "output_type": "stream",
     "text": [
      "Epoch 1/20\n",
      "235/234 [==============================] - 1s 3ms/step - loss: 0.9718 - accuracy: 0.8236 - val_loss: 32.9464 - val_accuracy: 0.8992\n",
      "Epoch 2/20\n",
      "235/234 [==============================] - 1s 2ms/step - loss: 0.5295 - accuracy: 0.9056 - val_loss: 32.0023 - val_accuracy: 0.9073\n",
      "Epoch 3/20\n",
      "235/234 [==============================] - 1s 3ms/step - loss: 0.4677 - accuracy: 0.9130 - val_loss: 34.4844 - val_accuracy: 0.9018\n",
      "Epoch 4/20\n",
      "235/234 [==============================] - 1s 3ms/step - loss: 0.4320 - accuracy: 0.9197 - val_loss: 31.3637 - val_accuracy: 0.9118\n",
      "Epoch 5/20\n",
      "235/234 [==============================] - 1s 3ms/step - loss: 0.4076 - accuracy: 0.9236 - val_loss: 35.9428 - val_accuracy: 0.9003\n",
      "Epoch 6/20\n",
      "235/234 [==============================] - 1s 2ms/step - loss: 0.3877 - accuracy: 0.9275 - val_loss: 32.0051 - val_accuracy: 0.9147\n",
      "Epoch 7/20\n",
      "235/234 [==============================] - 1s 3ms/step - loss: 0.3726 - accuracy: 0.9298 - val_loss: 35.0760 - val_accuracy: 0.9036\n",
      "Epoch 8/20\n",
      "235/234 [==============================] - 1s 3ms/step - loss: 0.3586 - accuracy: 0.9326 - val_loss: 32.5891 - val_accuracy: 0.9126\n",
      "Epoch 9/20\n",
      "235/234 [==============================] - 1s 2ms/step - loss: 0.3456 - accuracy: 0.9342 - val_loss: 36.6713 - val_accuracy: 0.8988\n",
      "Epoch 10/20\n",
      "235/234 [==============================] - 1s 3ms/step - loss: 0.3361 - accuracy: 0.9362 - val_loss: 30.0767 - val_accuracy: 0.9165\n",
      "Epoch 11/20\n",
      "235/234 [==============================] - 1s 2ms/step - loss: 0.3256 - accuracy: 0.9392 - val_loss: 29.1567 - val_accuracy: 0.9221\n",
      "Epoch 12/20\n",
      "235/234 [==============================] - 1s 3ms/step - loss: 0.3159 - accuracy: 0.9402 - val_loss: 28.6604 - val_accuracy: 0.9233\n",
      "Epoch 13/20\n",
      "235/234 [==============================] - 1s 2ms/step - loss: 0.3078 - accuracy: 0.9426 - val_loss: 27.1012 - val_accuracy: 0.9250\n",
      "Epoch 14/20\n",
      "235/234 [==============================] - 1s 2ms/step - loss: 0.3003 - accuracy: 0.9435 - val_loss: 27.4364 - val_accuracy: 0.9232\n",
      "Epoch 15/20\n",
      "235/234 [==============================] - 1s 3ms/step - loss: 0.2924 - accuracy: 0.9451 - val_loss: 24.3300 - val_accuracy: 0.9327\n",
      "Epoch 16/20\n",
      "235/234 [==============================] - 1s 2ms/step - loss: 0.2847 - accuracy: 0.9471 - val_loss: 23.4059 - val_accuracy: 0.9338\n",
      "Epoch 17/20\n",
      "235/234 [==============================] - 1s 3ms/step - loss: 0.2800 - accuracy: 0.9480 - val_loss: 23.6855 - val_accuracy: 0.9329\n",
      "Epoch 18/20\n",
      "235/234 [==============================] - 1s 2ms/step - loss: 0.2730 - accuracy: 0.9485 - val_loss: 21.1787 - val_accuracy: 0.9415\n",
      "Epoch 19/20\n",
      "235/234 [==============================] - 1s 2ms/step - loss: 0.2684 - accuracy: 0.9502 - val_loss: 23.4375 - val_accuracy: 0.9333\n",
      "Epoch 20/20\n",
      "235/234 [==============================] - 1s 2ms/step - loss: 0.2609 - accuracy: 0.9519 - val_loss: 21.8943 - val_accuracy: 0.9389\n"
     ]
    }
   ],
   "source": [
    "history_dense_2 = model_dense_2.fit(dataset, epochs=20, steps_per_epoch=steps_per_epoch, validation_data=(testX, testy))"
   ]
  },
  {
   "cell_type": "code",
   "execution_count": 18,
   "id": "14f063de",
   "metadata": {},
   "outputs": [
    {
     "data": {
      "image/png": "[encoded data removed]",
      "text/plain": [
       "<Figure size 640x480 with 1 Axes>"
      ]
     },
     "metadata": {},
     "output_type": "display_data"
    }
   ],
   "source": [
    "import matplotlib.pyplot as plt\n",
    "plt.plot(history_dense_0.history['val_accuracy'])\n",
    "plt.plot(history_dense_1.history['val_accuracy'])\n",
    "plt.plot(history_dense_2.history['val_accuracy'])\n",
    "plt.title('Small MLP: model accuracy with different regularization')\n",
    "plt.ylabel('val_accuracy')\n",
    "plt.xlabel('epoch')\n",
    "plt.legend(['L2', 'L1', 'No regularization'], loc='upper left')\n",
    "plt.show()"
   ]
  },
  {
   "attachments": {
    "image-2.png": {
     "image/png": "[encoded data removed]"
    }
   },
   "cell_type": "markdown",
   "id": "023775de",
   "metadata": {},
   "source": [
    "![image-2.png](attachment:image-2.png)"
   ]
  },
  {
   "cell_type": "code",
   "execution_count": null,
   "id": "b8a63a94",
   "metadata": {},
   "outputs": [],
   "source": []
  }
 ],
 "metadata": {
  "kernelspec": {
   "display_name": "Python 3 (ipykernel)",
   "language": "python",
   "name": "python3"
  },
  "language_info": {
   "codemirror_mode": {
    "name": "ipython",
    "version": 3
   },
   "file_extension": ".py",
   "mimetype": "text/x-python",
   "name": "python",
   "nbconvert_exporter": "python",
   "pygments_lexer": "ipython3",
   "version": "3.7.0"
  }
 },
 "nbformat": 4,
 "nbformat_minor": 5
}
