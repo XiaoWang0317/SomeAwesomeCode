{
 "cells": [
  {
   "cell_type": "code",
   "execution_count": 1,
   "id": "58d1bee1",
   "metadata": {},
   "outputs": [],
   "source": [
    "import tensorflow as tf\n",
    "import matplotlib.pyplot as plt\n",
    "%matplotlib inline"
   ]
  },
  {
   "cell_type": "code",
   "execution_count": 2,
   "id": "b77abde9",
   "metadata": {},
   "outputs": [],
   "source": [
    "(trainX, trainy), (testX, testy) = tf.keras.datasets.cifar10.load_data()"
   ]
  },
  {
   "cell_type": "code",
   "execution_count": 3,
   "id": "e5993461",
   "metadata": {},
   "outputs": [],
   "source": [
    "train_images = trainX/255\n",
    "test_images = testX/255"
   ]
  },
  {
   "cell_type": "code",
   "execution_count": 4,
   "id": "a02771bb",
   "metadata": {},
   "outputs": [],
   "source": [
    "dataset_images = tf.data.Dataset.from_tensor_slices(train_images)"
   ]
  },
  {
   "cell_type": "code",
   "execution_count": 5,
   "id": "d626a9a5",
   "metadata": {},
   "outputs": [],
   "source": [
    "dataset_labels = tf.data.Dataset.from_tensor_slices(trainy)"
   ]
  },
  {
   "cell_type": "code",
   "execution_count": 6,
   "id": "07e78f8e",
   "metadata": {},
   "outputs": [],
   "source": [
    "dataset = tf.data.Dataset.zip((dataset_images, dataset_labels))"
   ]
  },
  {
   "cell_type": "code",
   "execution_count": 7,
   "id": "5bfc8d00",
   "metadata": {},
   "outputs": [],
   "source": [
    "batch_size = 256\n",
    "dataset = dataset.shuffle(train_images.shape[0]).repeat().batch(batch_size)"
   ]
  },
  {
   "cell_type": "markdown",
   "id": "3dd8728f",
   "metadata": {},
   "source": [
    "## L1, L2 test"
   ]
  },
  {
   "cell_type": "code",
   "execution_count": 8,
   "id": "b44c9f01",
   "metadata": {},
   "outputs": [],
   "source": [
    "model_dense_0 = tf.keras.Sequential([\n",
    "    tf.keras.layers.Flatten(input_shape=(32, 32, 3)),\n",
    "    tf.keras.layers.Dense(32, activation='relu'),\n",
    "    tf.keras.layers.Dense(10, activation='softmax')\n",
    "])"
   ]
  },
  {
   "cell_type": "code",
   "execution_count": 11,
   "id": "25d24d67",
   "metadata": {},
   "outputs": [],
   "source": [
    "model_dense_0.compile(optimizer='adam',\n",
    "              loss='sparse_categorical_crossentropy',\n",
    "              metrics=['accuracy'])\n",
    "steps_per_epoch = train_images.shape[0]/batch_size"
   ]
  },
  {
   "cell_type": "code",
   "execution_count": 12,
   "id": "2d378694",
   "metadata": {},
   "outputs": [
    {
     "name": "stdout",
     "output_type": "stream",
     "text": [
      "Epoch 1/20\n",
      "196/195 [==============================] - 1s 6ms/step - loss: 2.2852 - accuracy: 0.1338\n",
      "Epoch 2/20\n",
      "196/195 [==============================] - 1s 6ms/step - loss: 2.2456 - accuracy: 0.1487\n",
      "Epoch 3/20\n",
      "196/195 [==============================] - 1s 6ms/step - loss: 2.2230 - accuracy: 0.1466\n",
      "Epoch 4/20\n",
      "196/195 [==============================] - 1s 7ms/step - loss: 2.1977 - accuracy: 0.1588\n",
      "Epoch 5/20\n",
      "196/195 [==============================] - 1s 7ms/step - loss: 2.1616 - accuracy: 0.1530\n",
      "Epoch 6/20\n",
      "196/195 [==============================] - 1s 7ms/step - loss: 2.1273 - accuracy: 0.1803\n",
      "Epoch 7/20\n",
      "196/195 [==============================] - 1s 7ms/step - loss: 2.1035 - accuracy: 0.1812\n",
      "Epoch 8/20\n",
      "196/195 [==============================] - 1s 7ms/step - loss: 2.0849 - accuracy: 0.1810\n",
      "Epoch 9/20\n",
      "196/195 [==============================] - 1s 8ms/step - loss: 2.0713 - accuracy: 0.1814\n",
      "Epoch 10/20\n",
      "196/195 [==============================] - 1s 8ms/step - loss: 2.0597 - accuracy: 0.1817\n",
      "Epoch 11/20\n",
      "196/195 [==============================] - 1s 8ms/step - loss: 2.0544 - accuracy: 0.1817\n",
      "Epoch 12/20\n",
      "196/195 [==============================] - 1s 8ms/step - loss: 2.0485 - accuracy: 0.1833\n",
      "Epoch 13/20\n",
      "196/195 [==============================] - 2s 8ms/step - loss: 2.0442 - accuracy: 0.1853\n",
      "Epoch 14/20\n",
      "196/195 [==============================] - 2s 8ms/step - loss: 2.0400 - accuracy: 0.1855\n",
      "Epoch 15/20\n",
      "196/195 [==============================] - 2s 8ms/step - loss: 2.0431 - accuracy: 0.1828\n",
      "Epoch 16/20\n",
      "196/195 [==============================] - 1s 8ms/step - loss: 2.0380 - accuracy: 0.1887\n",
      "Epoch 17/20\n",
      "196/195 [==============================] - 2s 8ms/step - loss: 2.0366 - accuracy: 0.1878\n",
      "Epoch 18/20\n",
      "196/195 [==============================] - 2s 8ms/step - loss: 2.0352 - accuracy: 0.1898\n",
      "Epoch 19/20\n",
      "196/195 [==============================] - 2s 8ms/step - loss: 2.0343 - accuracy: 0.1879\n",
      "Epoch 20/20\n",
      "196/195 [==============================] - 2s 8ms/step - loss: 2.0356 - accuracy: 0.1895\n"
     ]
    }
   ],
   "source": [
    "history_dense_0 = model_dense_0.fit(dataset, epochs=20, steps_per_epoch=steps_per_epoch)"
   ]
  },
  {
   "cell_type": "code",
   "execution_count": 17,
   "id": "04890983",
   "metadata": {},
   "outputs": [],
   "source": [
    "model_dense_1 = tf.keras.Sequential([\n",
    "    tf.keras.layers.Flatten(input_shape=(32, 32, 3)),\n",
    "    tf.keras.layers.Dense(32, activation='relu', kernel_regularizer =tf.keras.regularizers.l1(l=0.01)),\n",
    "    tf.keras.layers.Dense(10, activation='softmax')\n",
    "])"
   ]
  },
  {
   "cell_type": "code",
   "execution_count": 18,
   "id": "69d121a8",
   "metadata": {},
   "outputs": [],
   "source": [
    "model_dense_1.compile(optimizer='adam',\n",
    "              loss='sparse_categorical_crossentropy',\n",
    "              metrics=['accuracy'])\n",
    "steps_per_epoch = train_images.shape[0]/batch_size"
   ]
  },
  {
   "cell_type": "code",
   "execution_count": 19,
   "id": "128467cd",
   "metadata": {},
   "outputs": [
    {
     "name": "stdout",
     "output_type": "stream",
     "text": [
      "Epoch 1/20\n",
      "196/195 [==============================] - 2s 9ms/step - loss: 4.5914 - accuracy: 0.1687\n",
      "Epoch 2/20\n",
      "196/195 [==============================] - 2s 9ms/step - loss: 2.4204 - accuracy: 0.1815\n",
      "Epoch 3/20\n",
      "196/195 [==============================] - 2s 9ms/step - loss: 2.3699 - accuracy: 0.2025\n",
      "Epoch 4/20\n",
      "196/195 [==============================] - 2s 9ms/step - loss: 2.3442 - accuracy: 0.2120\n",
      "Epoch 5/20\n",
      "196/195 [==============================] - 2s 9ms/step - loss: 2.3177 - accuracy: 0.2260\n",
      "Epoch 6/20\n",
      "196/195 [==============================] - 2s 9ms/step - loss: 2.3099 - accuracy: 0.2373\n",
      "Epoch 7/20\n",
      "196/195 [==============================] - 2s 9ms/step - loss: 2.2865 - accuracy: 0.2556\n",
      "Epoch 8/20\n",
      "196/195 [==============================] - 2s 9ms/step - loss: 2.2689 - accuracy: 0.2640\n",
      "Epoch 9/20\n",
      "196/195 [==============================] - 2s 9ms/step - loss: 2.2690 - accuracy: 0.2641\n",
      "Epoch 10/20\n",
      "196/195 [==============================] - 2s 9ms/step - loss: 2.2537 - accuracy: 0.2719\n",
      "Epoch 11/20\n",
      "196/195 [==============================] - 2s 9ms/step - loss: 2.2596 - accuracy: 0.2687\n",
      "Epoch 12/20\n",
      "196/195 [==============================] - 2s 9ms/step - loss: 2.2531 - accuracy: 0.2756\n",
      "Epoch 13/20\n",
      "196/195 [==============================] - 2s 9ms/step - loss: 2.2447 - accuracy: 0.2775\n",
      "Epoch 14/20\n",
      "196/195 [==============================] - 2s 9ms/step - loss: 2.2395 - accuracy: 0.2764\n",
      "Epoch 15/20\n",
      "196/195 [==============================] - 2s 9ms/step - loss: 2.2254 - accuracy: 0.2875\n",
      "Epoch 16/20\n",
      "196/195 [==============================] - 2s 9ms/step - loss: 2.2303 - accuracy: 0.2820\n",
      "Epoch 17/20\n",
      "196/195 [==============================] - 2s 10ms/step - loss: 2.2347 - accuracy: 0.2813\n",
      "Epoch 18/20\n",
      "196/195 [==============================] - 2s 9ms/step - loss: 2.2265 - accuracy: 0.2816\n",
      "Epoch 19/20\n",
      "196/195 [==============================] - 2s 9ms/step - loss: 2.2266 - accuracy: 0.2850\n",
      "Epoch 20/20\n",
      "196/195 [==============================] - 2s 9ms/step - loss: 2.2233 - accuracy: 0.2830\n"
     ]
    }
   ],
   "source": [
    "history_dense_1 = model_dense_1.fit(dataset, epochs=20, steps_per_epoch=steps_per_epoch)"
   ]
  },
  {
   "cell_type": "code",
   "execution_count": 20,
   "id": "92a18fac",
   "metadata": {},
   "outputs": [],
   "source": [
    "model_dense_2 = tf.keras.Sequential([\n",
    "    tf.keras.layers.Flatten(input_shape=(32, 32, 3)),\n",
    "    tf.keras.layers.Dense(32, activation='relu', kernel_regularizer =tf.keras.regularizers.l1(l=0.01)),\n",
    "    tf.keras.layers.Dense(10, activation='softmax')\n",
    "])"
   ]
  },
  {
   "cell_type": "code",
   "execution_count": 21,
   "id": "226ab982",
   "metadata": {},
   "outputs": [],
   "source": [
    "model_dense_2.compile(optimizer='adam',\n",
    "              loss='sparse_categorical_crossentropy',\n",
    "              metrics=['accuracy'])\n",
    "steps_per_epoch = train_images.shape[0]/batch_size"
   ]
  },
  {
   "cell_type": "code",
   "execution_count": 22,
   "id": "018b32ce",
   "metadata": {},
   "outputs": [
    {
     "name": "stdout",
     "output_type": "stream",
     "text": [
      "Epoch 1/20\n",
      "196/195 [==============================] - 2s 11ms/step - loss: 4.9882 - accuracy: 0.1507\n",
      "Epoch 2/20\n",
      "196/195 [==============================] - 2s 11ms/step - loss: 2.4314 - accuracy: 0.1900\n",
      "Epoch 3/20\n",
      "196/195 [==============================] - 2s 11ms/step - loss: 2.4000 - accuracy: 0.2176\n",
      "Epoch 4/20\n",
      "196/195 [==============================] - 2s 11ms/step - loss: 2.3472 - accuracy: 0.2405\n",
      "Epoch 5/20\n",
      "196/195 [==============================] - 2s 11ms/step - loss: 2.3117 - accuracy: 0.2567\n",
      "Epoch 6/20\n",
      "196/195 [==============================] - 2s 11ms/step - loss: 2.2946 - accuracy: 0.2677\n",
      "Epoch 7/20\n",
      "196/195 [==============================] - 2s 11ms/step - loss: 2.2930 - accuracy: 0.2695\n",
      "Epoch 8/20\n",
      "196/195 [==============================] - 2s 11ms/step - loss: 2.2758 - accuracy: 0.2741\n",
      "Epoch 9/20\n",
      "196/195 [==============================] - 2s 11ms/step - loss: 2.2666 - accuracy: 0.2788\n",
      "Epoch 10/20\n",
      "196/195 [==============================] - 2s 11ms/step - loss: 2.2720 - accuracy: 0.2746\n",
      "Epoch 11/20\n",
      "196/195 [==============================] - 2s 11ms/step - loss: 2.2511 - accuracy: 0.2829\n",
      "Epoch 12/20\n",
      "196/195 [==============================] - 2s 11ms/step - loss: 2.2486 - accuracy: 0.2814\n",
      "Epoch 13/20\n",
      "196/195 [==============================] - 2s 11ms/step - loss: 2.2403 - accuracy: 0.2831\n",
      "Epoch 14/20\n",
      "196/195 [==============================] - 2s 11ms/step - loss: 2.2506 - accuracy: 0.2786\n",
      "Epoch 15/20\n",
      "196/195 [==============================] - 2s 11ms/step - loss: 2.2383 - accuracy: 0.2806\n",
      "Epoch 16/20\n",
      "196/195 [==============================] - 2s 11ms/step - loss: 2.2299 - accuracy: 0.2868\n",
      "Epoch 17/20\n",
      "196/195 [==============================] - 2s 11ms/step - loss: 2.2278 - accuracy: 0.2864\n",
      "Epoch 18/20\n",
      "196/195 [==============================] - 2s 11ms/step - loss: 2.2268 - accuracy: 0.2839\n",
      "Epoch 19/20\n",
      "196/195 [==============================] - 2s 11ms/step - loss: 2.2236 - accuracy: 0.2886\n",
      "Epoch 20/20\n",
      "196/195 [==============================] - 2s 11ms/step - loss: 2.2155 - accuracy: 0.2880\n"
     ]
    }
   ],
   "source": [
    "history_dense_2 = model_dense_2.fit(dataset, epochs=20, steps_per_epoch=steps_per_epoch)"
   ]
  },
  {
   "cell_type": "code",
   "execution_count": 24,
   "id": "ddf0815b",
   "metadata": {},
   "outputs": [
    {
     "data": {
      "image/png": "[encoded data removed]",
      "text/plain": [
       "<Figure size 640x480 with 1 Axes>"
      ]
     },
     "metadata": {},
     "output_type": "display_data"
    }
   ],
   "source": [
    "import matplotlib.pyplot as plt\n",
    "plt.plot(history_dense_0.history['accuracy'])\n",
    "plt.plot(history_dense_1.history['accuracy'])\n",
    "plt.plot(history_dense_2.history['accuracy'])\n",
    "plt.title('Small MLP: model accuracy with different regularization')\n",
    "plt.ylabel('accuracy')\n",
    "plt.xlabel('epoch')\n",
    "plt.legend(['L2', 'L1', 'No regularization'], loc='upper left')\n",
    "plt.show()"
   ]
  },
  {
   "attachments": {
    "image.png": {
     "image/png": "[encoded data removed]"
    }
   },
   "cell_type": "markdown",
   "id": "5c92852f",
   "metadata": {},
   "source": [
    "![image.png](attachment:image.png)"
   ]
  },
  {
   "cell_type": "code",
   "execution_count": null,
   "id": "44dae325",
   "metadata": {},
   "outputs": [],
   "source": []
  }
 ],
 "metadata": {
  "kernelspec": {
   "display_name": "Python 3 (ipykernel)",
   "language": "python",
   "name": "python3"
  },
  "language_info": {
   "codemirror_mode": {
    "name": "ipython",
    "version": 3
   },
   "file_extension": ".py",
   "mimetype": "text/x-python",
   "name": "python",
   "nbconvert_exporter": "python",
   "pygments_lexer": "ipython3",
   "version": "3.7.0"
  }
 },
 "nbformat": 4,
 "nbformat_minor": 5
}
